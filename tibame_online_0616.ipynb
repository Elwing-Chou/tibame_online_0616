{
  "nbformat": 4,
  "nbformat_minor": 0,
  "metadata": {
    "colab": {
      "provenance": [],
      "authorship_tag": "ABX9TyMdbICDPpA0VuU74+gRxt3I",
      "include_colab_link": true
    },
    "kernelspec": {
      "name": "python3",
      "display_name": "Python 3"
    },
    "language_info": {
      "name": "python"
    }
  },
  "cells": [
    {
      "cell_type": "markdown",
      "metadata": {
        "id": "view-in-github",
        "colab_type": "text"
      },
      "source": [
        "<a href=\"https://colab.research.google.com/github/Elwing-Chou/tibame_online_0616/blob/main/tibame_online_0616.ipynb\" target=\"_parent\"><img src=\"https://colab.research.google.com/assets/colab-badge.svg\" alt=\"Open In Colab\"/></a>"
      ]
    },
    {
      "cell_type": "markdown",
      "source": [
        "\n",
        "\n",
        "```\n",
        "標準python檔案: .py作為結尾, 第一行就執行到最後一行(repl.it)\n",
        "\n",
        "基於標準python的函式庫(jupyter notebook): 可以讓你一段一段執行(colab), .ipynb做結尾\n",
        "\n",
        "```\n",
        "\n",
        "Latex math\n",
        "\n",
        "$ \\pi \\frac{1}{2-r} $\n",
        "\n",
        "\n"
      ],
      "metadata": {
        "id": "9chknHH5ck5d"
      }
    },
    {
      "cell_type": "code",
      "source": [
        "i = 0\n",
        "while i < 10:\n",
        "    print(20-3*i)\n",
        "    i = i + 1"
      ],
      "metadata": {
        "id": "8ZJuAsiqgd_d"
      },
      "execution_count": null,
      "outputs": []
    },
    {
      "cell_type": "code",
      "source": [
        "# 後面的課程會跟你說上面的可以用for...in range(次)做取代\n",
        "for i in range(10):\n",
        "    print(20-3*i)"
      ],
      "metadata": {
        "id": "6TVDe-ChhQDa"
      },
      "execution_count": null,
      "outputs": []
    },
    {
      "cell_type": "code",
      "execution_count": null,
      "metadata": {
        "id": "UNcFOrtybIWp"
      },
      "outputs": [],
      "source": [
        "# list操作\n",
        "scores = [50, 20, 60, 80]\n",
        "# 最基本查詢操作\n",
        "print(scores[3])\n",
        "# 設定操作(!!)\n",
        "scores[0] = 90\n",
        "print(scores)"
      ]
    },
    {
      "cell_type": "code",
      "source": [
        "test = [[0.1, 0.2], [0.3, 0.4], [0.5, 0.6]]\n",
        "test[2][0] = 0.8\n",
        "print(test)"
      ],
      "metadata": {
        "colab": {
          "base_uri": "https://localhost:8080/"
        },
        "id": "V6-tdCdujIEf",
        "outputId": "4955bc5c-7686-4e49-b6a1-b3fc9f0ef3e9"
      },
      "execution_count": 13,
      "outputs": [
        {
          "output_type": "stream",
          "name": "stdout",
          "text": [
            "[[0.1, 0.2], [0.3, 0.4], [0.8, 0.6]]\n"
          ]
        }
      ]
    },
    {
      "cell_type": "code",
      "source": [
        "# 假設我想做9x9\n",
        "# n1*n2 n1:1-3  n2:1-9\n",
        "i = 0\n",
        "while i < 3:\n",
        "    n1 = i + 1\n",
        "    j = 0\n",
        "    while j < 9:\n",
        "        n2 = j + 1\n",
        "        ans = n1 * n2\n",
        "        print(n1, \"x\", n2, \"=\", ans)\n",
        "        j = j + 1\n",
        "    i = i + 1"
      ],
      "metadata": {
        "id": "871UIteWk0SA"
      },
      "execution_count": null,
      "outputs": []
    },
    {
      "cell_type": "code",
      "source": [
        "# 如果會了for in range後\n",
        "for i in range(9):\n",
        "    n1 = i + 1\n",
        "    for j in range(9):\n",
        "        n2 = j + 1\n",
        "        ans = n1 * n2\n",
        "        print(n1, \"x\", n2, \"=\", ans)"
      ],
      "metadata": {
        "id": "QyCCtpdqmKPf"
      },
      "execution_count": null,
      "outputs": []
    },
    {
      "cell_type": "markdown",
      "source": [
        "\n",
        "\n",
        "```\n",
        "寫程式前: 放下鍵盤滑鼠, 想好再下筆\n",
        "寫程式中: 翻譯, 中文換成程式\n",
        "寫程式後: 檢討\n",
        "\n",
        "ooxx:\n",
        "1. 使用者和電腦可以落子\n",
        "2. 判斷輸贏\n",
        "(!) 如何表示盤面\n",
        "\n",
        "ooxx: 如何表示這個遊戲\n",
        "```\n",
        "\n"
      ],
      "metadata": {
        "id": "4yIpOZnoqII_"
      }
    },
    {
      "cell_type": "code",
      "source": [
        "# 1:o 0:沒 2:x\n",
        "board = [\n",
        "    [0, 0, 0],\n",
        "    [0, 0, 0],\n",
        "    [0, 0, 0]\n",
        "]\n",
        "# 判定輸贏: 橫的/直的/斜線"
      ],
      "metadata": {
        "id": "AP_8R493q7CE"
      },
      "execution_count": 20,
      "outputs": []
    },
    {
      "cell_type": "code",
      "source": [
        "# # 橫的\n",
        "# board = [\n",
        "#     [1, 0, 1],\n",
        "#     [1, 2, 0],\n",
        "#     [2, 2, 2]\n",
        "# ]\n",
        "# # 固定board[0][0] 看 board[0][1] 和 board[0][2] 是否跟board[0][0]一樣\n",
        "# # 固定board[1][0]         [1][1]         [1][2]\n",
        "# i = 0\n",
        "# while i < 3:\n",
        "#     winner = True\n",
        "#     check = board[i][0]\n",
        "#     j = 0\n",
        "#     while j < 3:\n",
        "#         if not check == board[i][j]:\n",
        "#             winner = False\n",
        "#         j = j + 1\n",
        "#     if winner == True:\n",
        "#         print(i, \"WIN\")\n",
        "#         break\n",
        "#     i = i + 1"
      ],
      "metadata": {
        "colab": {
          "base_uri": "https://localhost:8080/"
        },
        "id": "FDJj571IrxsY",
        "outputId": "5274a5b7-347c-441f-8180-13add1d85e8c"
      },
      "execution_count": 30,
      "outputs": [
        {
          "output_type": "stream",
          "name": "stdout",
          "text": [
            "2 WIN\n"
          ]
        }
      ]
    },
    {
      "cell_type": "code",
      "source": [
        "board = [\n",
        "    [0, 0, 0],\n",
        "    [1, 2, 0],\n",
        "    [2, 2, 2]\n",
        "]\n",
        "# 固定board[0][0] 看 board[0][1] 和 board[0][2] 是否跟board[0][0]一樣\n",
        "i = 0\n",
        "while i < 3:\n",
        "    # 如果這列的第一個位置不是0\n",
        "    if not board[i][0] == 0:\n",
        "        # 他們三個是一樣的\n",
        "        if board[i][0] == board[i][1] == board[i][2]:\n",
        "            print(i, \"WIN\")\n",
        "    i = i + 1"
      ],
      "metadata": {
        "colab": {
          "base_uri": "https://localhost:8080/"
        },
        "id": "kqcYRnPKu1tQ",
        "outputId": "f9a666e1-bfd8-4f93-f22e-a5cf4520c99e"
      },
      "execution_count": 34,
      "outputs": [
        {
          "output_type": "stream",
          "name": "stdout",
          "text": [
            "2 WIN\n"
          ]
        }
      ]
    },
    {
      "cell_type": "markdown",
      "source": [
        "\n",
        "\n",
        "```\n",
        "上面: 固定row, 直接用迴圈往後比三個\n",
        "好處: 擴充性比較好(如果今天真的出現10x10的ooxx), 依舊可以\n",
        "壞處: 你會發現其實講中文比較難(可讀性比較差)\n",
        "\n",
        "下面: 固定row, 直接if固定比三個\n",
        "好處: 可讀性超好\n",
        "壞處: 擴充性被限制\n",
        "\n",
        "```\n",
        "\n"
      ],
      "metadata": {
        "id": "qXyq24qEvg2x"
      }
    }
  ]
}