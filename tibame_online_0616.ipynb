{
  "nbformat": 4,
  "nbformat_minor": 0,
  "metadata": {
    "colab": {
      "provenance": [],
      "authorship_tag": "ABX9TyMUy0aOx5E5Wz8bCrLEtWFv",
      "include_colab_link": true
    },
    "kernelspec": {
      "name": "python3",
      "display_name": "Python 3"
    },
    "language_info": {
      "name": "python"
    }
  },
  "cells": [
    {
      "cell_type": "markdown",
      "metadata": {
        "id": "view-in-github",
        "colab_type": "text"
      },
      "source": [
        "<a href=\"https://colab.research.google.com/github/Elwing-Chou/tibame_online_0616/blob/main/tibame_online_0616.ipynb\" target=\"_parent\"><img src=\"https://colab.research.google.com/assets/colab-badge.svg\" alt=\"Open In Colab\"/></a>"
      ]
    },
    {
      "cell_type": "markdown",
      "source": [
        "\n",
        "\n",
        "```\n",
        "標準python檔案: .py作為結尾, 第一行就執行到最後一行(repl.it)\n",
        "\n",
        "基於標準python的函式庫(jupyter notebook): 可以讓你一段一段執行(colab), .ipynb做結尾\n",
        "\n",
        "```\n",
        "\n",
        "Latex math\n",
        "\n",
        "$ \\pi \\frac{1}{2-r} $\n",
        "\n",
        "\n"
      ],
      "metadata": {
        "id": "9chknHH5ck5d"
      }
    },
    {
      "cell_type": "code",
      "execution_count": null,
      "metadata": {
        "id": "UNcFOrtybIWp"
      },
      "outputs": [],
      "source": []
    }
  ]
}