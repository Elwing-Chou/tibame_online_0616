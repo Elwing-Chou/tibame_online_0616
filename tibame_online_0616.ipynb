{
  "nbformat": 4,
  "nbformat_minor": 0,
  "metadata": {
    "colab": {
      "provenance": [],
      "authorship_tag": "ABX9TyMqi4XnorTBWiMRbKpNTRF9",
      "include_colab_link": true
    },
    "kernelspec": {
      "name": "python3",
      "display_name": "Python 3"
    },
    "language_info": {
      "name": "python"
    }
  },
  "cells": [
    {
      "cell_type": "markdown",
      "metadata": {
        "id": "view-in-github",
        "colab_type": "text"
      },
      "source": [
        "<a href=\"https://colab.research.google.com/github/Elwing-Chou/tibame_online_0616/blob/main/tibame_online_0616.ipynb\" target=\"_parent\"><img src=\"https://colab.research.google.com/assets/colab-badge.svg\" alt=\"Open In Colab\"/></a>"
      ]
    },
    {
      "cell_type": "markdown",
      "source": [
        "\n",
        "\n",
        "```\n",
        "標準python檔案: .py作為結尾, 第一行就執行到最後一行(repl.it)\n",
        "\n",
        "基於標準python的函式庫(jupyter notebook): 可以讓你一段一段執行(colab), .ipynb做結尾\n",
        "\n",
        "```\n",
        "\n",
        "Latex math\n",
        "\n",
        "$ \\pi \\frac{1}{2-r} $\n",
        "\n",
        "\n"
      ],
      "metadata": {
        "id": "9chknHH5ck5d"
      }
    },
    {
      "cell_type": "code",
      "source": [
        "i = 0\n",
        "while i < 10:\n",
        "    print(20-3*i)\n",
        "    i = i + 1"
      ],
      "metadata": {
        "id": "8ZJuAsiqgd_d"
      },
      "execution_count": null,
      "outputs": []
    },
    {
      "cell_type": "code",
      "source": [
        "# 後面的課程會跟你說上面的可以用for...in range(次)做取代\n",
        "for i in range(10):\n",
        "    print(20-3*i)"
      ],
      "metadata": {
        "id": "6TVDe-ChhQDa"
      },
      "execution_count": null,
      "outputs": []
    },
    {
      "cell_type": "code",
      "execution_count": 10,
      "metadata": {
        "colab": {
          "base_uri": "https://localhost:8080/"
        },
        "id": "UNcFOrtybIWp",
        "outputId": "e0046724-0de4-4a12-9a78-24fd22902176"
      },
      "outputs": [
        {
          "output_type": "stream",
          "name": "stdout",
          "text": [
            "80\n",
            "[90, 20, 60, 80]\n"
          ]
        }
      ],
      "source": [
        "# list操作\n",
        "scores = [50, 20, 60, 80]\n",
        "# 最基本查詢操作\n",
        "print(scores[3])\n",
        "# 設定操作(!!)\n",
        "scores[0] = 90\n",
        "print(scores)"
      ]
    }
  ]
}