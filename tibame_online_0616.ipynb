{
  "nbformat": 4,
  "nbformat_minor": 0,
  "metadata": {
    "colab": {
      "provenance": [],
      "authorship_tag": "ABX9TyM7FBVFIb5IR4MAZsl6+bHV",
      "include_colab_link": true
    },
    "kernelspec": {
      "name": "python3",
      "display_name": "Python 3"
    },
    "language_info": {
      "name": "python"
    }
  },
  "cells": [
    {
      "cell_type": "markdown",
      "metadata": {
        "id": "view-in-github",
        "colab_type": "text"
      },
      "source": [
        "<a href=\"https://colab.research.google.com/github/Elwing-Chou/tibame_online_0616/blob/main/tibame_online_0616.ipynb\" target=\"_parent\"><img src=\"https://colab.research.google.com/assets/colab-badge.svg\" alt=\"Open In Colab\"/></a>"
      ]
    },
    {
      "cell_type": "markdown",
      "source": [
        "\n",
        "\n",
        "```\n",
        "標準python檔案: .py作為結尾, 第一行就執行到最後一行(repl.it)\n",
        "\n",
        "基於標準python的函式庫(jupyter notebook): 可以讓你一段一段執行(colab), .ipynb做結尾\n",
        "\n",
        "```\n",
        "\n",
        "Latex math\n",
        "\n",
        "$ \\pi \\frac{1}{2-r} $\n",
        "\n",
        "\n"
      ],
      "metadata": {
        "id": "9chknHH5ck5d"
      }
    },
    {
      "cell_type": "code",
      "source": [
        "i = 0\n",
        "while i < 10:\n",
        "    print(20-3*i)\n",
        "    i = i + 1"
      ],
      "metadata": {
        "id": "8ZJuAsiqgd_d"
      },
      "execution_count": null,
      "outputs": []
    },
    {
      "cell_type": "code",
      "source": [
        "# 後面的課程會跟你說上面的可以用for...in range(次)做取代\n",
        "for i in range(10):\n",
        "    print(20-3*i)"
      ],
      "metadata": {
        "id": "6TVDe-ChhQDa"
      },
      "execution_count": null,
      "outputs": []
    },
    {
      "cell_type": "code",
      "execution_count": null,
      "metadata": {
        "id": "UNcFOrtybIWp"
      },
      "outputs": [],
      "source": [
        "# list操作\n",
        "scores = [50, 20, 60, 80]\n",
        "# 最基本查詢操作\n",
        "print(scores[3])\n",
        "# 設定操作(!!)\n",
        "scores[0] = 90\n",
        "print(scores)"
      ]
    },
    {
      "cell_type": "code",
      "source": [
        "test = [[0.1, 0.2], [0.3, 0.4], [0.5, 0.6]]\n",
        "test[2][0]"
      ],
      "metadata": {
        "colab": {
          "base_uri": "https://localhost:8080/"
        },
        "id": "V6-tdCdujIEf",
        "outputId": "c242470a-cc1d-4f3f-c0d4-008b6f47a8a7"
      },
      "execution_count": 12,
      "outputs": [
        {
          "output_type": "execute_result",
          "data": {
            "text/plain": [
              "0.5"
            ]
          },
          "metadata": {},
          "execution_count": 12
        }
      ]
    }
  ]
}