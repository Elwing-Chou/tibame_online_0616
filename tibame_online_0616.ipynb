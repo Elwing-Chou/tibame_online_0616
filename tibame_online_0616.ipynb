{
  "nbformat": 4,
  "nbformat_minor": 0,
  "metadata": {
    "colab": {
      "provenance": [],
      "authorship_tag": "ABX9TyNnuXZfoMhVDNrVmT/I4bj4",
      "include_colab_link": true
    },
    "kernelspec": {
      "name": "python3",
      "display_name": "Python 3"
    },
    "language_info": {
      "name": "python"
    }
  },
  "cells": [
    {
      "cell_type": "markdown",
      "metadata": {
        "id": "view-in-github",
        "colab_type": "text"
      },
      "source": [
        "<a href=\"https://colab.research.google.com/github/Elwing-Chou/tibame_online_0616/blob/main/tibame_online_0616.ipynb\" target=\"_parent\"><img src=\"https://colab.research.google.com/assets/colab-badge.svg\" alt=\"Open In Colab\"/></a>"
      ]
    },
    {
      "cell_type": "markdown",
      "source": [
        "\n",
        "\n",
        "```\n",
        "標準python檔案: .py作為結尾, 第一行就執行到最後一行(repl.it)\n",
        "\n",
        "基於標準python的函式庫(jupyter notebook): 可以讓你一段一段執行(colab), .ipynb做結尾\n",
        "\n",
        "```\n",
        "\n",
        "Latex math\n",
        "\n",
        "$ \\pi \\frac{1}{2-r} $\n",
        "\n",
        "\n"
      ],
      "metadata": {
        "id": "9chknHH5ck5d"
      }
    },
    {
      "cell_type": "code",
      "source": [
        "i = 0\n",
        "while i < 10:\n",
        "    print(20-3*i)\n",
        "    i = i + 1"
      ],
      "metadata": {
        "id": "8ZJuAsiqgd_d"
      },
      "execution_count": null,
      "outputs": []
    },
    {
      "cell_type": "code",
      "source": [
        "# 後面的課程會跟你說上面的可以用for...in range(次)做取代\n",
        "for i in range(10):\n",
        "    print(20-3*i)"
      ],
      "metadata": {
        "id": "6TVDe-ChhQDa"
      },
      "execution_count": null,
      "outputs": []
    },
    {
      "cell_type": "code",
      "execution_count": null,
      "metadata": {
        "id": "UNcFOrtybIWp"
      },
      "outputs": [],
      "source": [
        "# list操作\n",
        "scores = [50, 20, 60, 80]\n",
        "# 最基本查詢操作\n",
        "print(scores[3])\n",
        "# 設定操作(!!)\n",
        "scores[0] = 90\n",
        "print(scores)"
      ]
    },
    {
      "cell_type": "code",
      "source": [
        "test = [[0.1, 0.2], [0.3, 0.4], [0.5, 0.6]]\n",
        "test[2][0] = 0.8\n",
        "print(test)"
      ],
      "metadata": {
        "colab": {
          "base_uri": "https://localhost:8080/"
        },
        "id": "V6-tdCdujIEf",
        "outputId": "4955bc5c-7686-4e49-b6a1-b3fc9f0ef3e9"
      },
      "execution_count": 13,
      "outputs": [
        {
          "output_type": "stream",
          "name": "stdout",
          "text": [
            "[[0.1, 0.2], [0.3, 0.4], [0.8, 0.6]]\n"
          ]
        }
      ]
    },
    {
      "cell_type": "code",
      "source": [
        "# 假設我想做9x9\n",
        "# n1*n2 n1:1-3  n2:1-9\n",
        "i = 0\n",
        "while i < 3:\n",
        "    n1 = i + 1\n",
        "    j = 0\n",
        "    while j < 9:\n",
        "        n2 = j + 1\n",
        "        ans = n1 * n2\n",
        "        print(n1, \"x\", n2, \"=\", ans)\n",
        "        j = j + 1\n",
        "    i = i + 1"
      ],
      "metadata": {
        "id": "871UIteWk0SA"
      },
      "execution_count": null,
      "outputs": []
    },
    {
      "cell_type": "code",
      "source": [
        "# 如果會了for in range後\n",
        "for i in range(9):\n",
        "    n1 = i + 1\n",
        "    for j in range(9):\n",
        "        n2 = j + 1\n",
        "        ans = n1 * n2\n",
        "        print(n1, \"x\", n2, \"=\", ans)"
      ],
      "metadata": {
        "id": "QyCCtpdqmKPf"
      },
      "execution_count": null,
      "outputs": []
    },
    {
      "cell_type": "markdown",
      "source": [
        "\n",
        "\n",
        "```\n",
        "寫程式前: 放下鍵盤滑鼠, 想好再下筆\n",
        "寫程式中: 翻譯, 中文換成程式\n",
        "寫程式後: 檢討\n",
        "\n",
        "ooxx:\n",
        "1. 使用者和電腦可以落子\n",
        "2. 判斷輸贏\n",
        "(!) 如何表示盤面\n",
        "\n",
        "ooxx: 如何表示這個遊戲\n",
        "```\n",
        "\n"
      ],
      "metadata": {
        "id": "4yIpOZnoqII_"
      }
    },
    {
      "cell_type": "code",
      "source": [
        "# 1:o 0:沒 2:x\n",
        "board = [\n",
        "    [0, 0, 0],\n",
        "    [0, 0, 0],\n",
        "    [0, 0, 0]\n",
        "]\n",
        "# 判定輸贏: 橫的/直的/斜線"
      ],
      "metadata": {
        "id": "AP_8R493q7CE"
      },
      "execution_count": 20,
      "outputs": []
    },
    {
      "cell_type": "code",
      "source": [
        "# # 橫的\n",
        "# board = [\n",
        "#     [1, 0, 1],\n",
        "#     [1, 2, 0],\n",
        "#     [2, 2, 2]\n",
        "# ]\n",
        "# # 固定board[0][0] 看 board[0][1] 和 board[0][2] 是否跟board[0][0]一樣\n",
        "# # 固定board[1][0]         [1][1]         [1][2]\n",
        "# i = 0\n",
        "# while i < 3:\n",
        "#     winner = True\n",
        "#     check = board[i][0]\n",
        "#     j = 0\n",
        "#     while j < 3:\n",
        "#         if not check == board[i][j]:\n",
        "#             winner = False\n",
        "#         j = j + 1\n",
        "#     if winner == True:\n",
        "#         print(i, \"WIN\")\n",
        "#         break\n",
        "#     i = i + 1"
      ],
      "metadata": {
        "colab": {
          "base_uri": "https://localhost:8080/"
        },
        "id": "FDJj571IrxsY",
        "outputId": "5274a5b7-347c-441f-8180-13add1d85e8c"
      },
      "execution_count": 30,
      "outputs": [
        {
          "output_type": "stream",
          "name": "stdout",
          "text": [
            "2 WIN\n"
          ]
        }
      ]
    },
    {
      "cell_type": "code",
      "source": [
        "# 橫的\n",
        "board = [\n",
        "    [0, 0, 0],\n",
        "    [1, 2, 0],\n",
        "    [2, 2, 2]\n",
        "]\n",
        "# 固定board[0][0] 看 board[0][1] 和 board[0][2] 是否跟board[0][0]一樣\n",
        "i = 0\n",
        "while i < 3:\n",
        "    # 如果這列的第一個位置不是0\n",
        "    if not board[i][0] == 0:\n",
        "        # 他們三個是一樣的\n",
        "        if board[i][0] == board[i][1] == board[i][2]:\n",
        "            print(i, \"WIN\")\n",
        "    i = i + 1"
      ],
      "metadata": {
        "colab": {
          "base_uri": "https://localhost:8080/"
        },
        "id": "kqcYRnPKu1tQ",
        "outputId": "f9a666e1-bfd8-4f93-f22e-a5cf4520c99e"
      },
      "execution_count": 34,
      "outputs": [
        {
          "output_type": "stream",
          "name": "stdout",
          "text": [
            "2 WIN\n"
          ]
        }
      ]
    },
    {
      "cell_type": "markdown",
      "source": [
        "\n",
        "\n",
        "```\n",
        "上面: 固定row, 直接用迴圈往後比三個\n",
        "好處: 擴充性比較好(如果今天真的出現10x10的ooxx), 依舊可以\n",
        "壞處: 你會發現其實講中文比較難(可讀性比較差)\n",
        "\n",
        "下面: 固定row, 直接if固定比三個\n",
        "好處: 可讀性超好\n",
        "壞處: 擴充性被限制\n",
        "\n",
        "```\n",
        "\n"
      ],
      "metadata": {
        "id": "qXyq24qEvg2x"
      }
    },
    {
      "cell_type": "code",
      "source": [
        "# 直的\n",
        "board = [\n",
        "    [0, 1, 2],\n",
        "    [0, 1, 2],\n",
        "    [0, 1, 2]\n",
        "]\n",
        "# 固定board[0][0] 看 board[1][0] 和 board[2][0] 是否跟board[0][0]一樣\n",
        "\n",
        "i = 0\n",
        "while i < 3:\n",
        "    # 這一個直行的第一個不是0\n",
        "    if not board[0][i] == 0:\n",
        "        # 他們三個是一樣的\n",
        "        if board[0][i] == board[1][i] == board[2][i]:\n",
        "            print(i, \"WIN\")\n",
        "    i = i + 1"
      ],
      "metadata": {
        "colab": {
          "base_uri": "https://localhost:8080/"
        },
        "id": "WEUqW3-H0OmM",
        "outputId": "3d91b3d5-1d46-4ff5-a26f-602f3d8ce89a"
      },
      "execution_count": 37,
      "outputs": [
        {
          "output_type": "stream",
          "name": "stdout",
          "text": [
            "1 WIN\n",
            "2 WIN\n"
          ]
        }
      ]
    },
    {
      "cell_type": "code",
      "source": [
        "# 斜的\n",
        "board = [\n",
        "    [1, 0, 2],\n",
        "    [0, 2, 0],\n",
        "    [2, 0, 1]\n",
        "]\n",
        "# 00 11 22\n",
        "# 02 11 20\n",
        "if not board[1][1] == 0:\n",
        "    if board[0][0] == board[1][1] == board[2][2]:\n",
        "        print(\"左上到右下WIN\")\n",
        "    if board[0][2] == board[1][1] == board[2][0]:\n",
        "        print(\"右上到左下WIN\")"
      ],
      "metadata": {
        "colab": {
          "base_uri": "https://localhost:8080/"
        },
        "id": "IFubpXU11XFz",
        "outputId": "5f8ce790-69e6-49f7-b98f-2093daf693a0"
      },
      "execution_count": 39,
      "outputs": [
        {
          "output_type": "stream",
          "name": "stdout",
          "text": [
            "右上到左下WIN\n"
          ]
        }
      ]
    },
    {
      "cell_type": "code",
      "source": [
        "# 印出來的功能\n",
        "board = [\n",
        "    [1, 0, 2],\n",
        "    [0, 2, 0],\n",
        "    [2, 0, 1]\n",
        "]\n",
        "\n",
        "print(\"目前盤面:\")\n",
        "i = 0\n",
        "while i < 3:\n",
        "    line = \"\"\n",
        "    j = 0\n",
        "    while j < 3:\n",
        "        pos = board[i][j]\n",
        "        if pos == 0:\n",
        "            line = line + \"_ \"\n",
        "        elif pos == 1:\n",
        "            line = line + \"O \"\n",
        "        elif pos == 2:\n",
        "            line = line + \"X \"\n",
        "        j = j + 1\n",
        "    print(line)\n",
        "    i = i + 1\n",
        "print(\"-\" * 20)"
      ],
      "metadata": {
        "colab": {
          "base_uri": "https://localhost:8080/"
        },
        "id": "LCsKN_XU2xOC",
        "outputId": "416515d7-a7c1-42c2-e488-ab90132d8250"
      },
      "execution_count": 46,
      "outputs": [
        {
          "output_type": "stream",
          "name": "stdout",
          "text": [
            "目前盤面:\n",
            "O _ X \n",
            "_ X _ \n",
            "X _ O \n",
            "--------------------\n"
          ]
        }
      ]
    },
    {
      "cell_type": "code",
      "source": [
        "# 出全\n",
        "board = [\n",
        "    [0, 0, 0],\n",
        "    [0, 0, 0],\n",
        "    [0, 0, 0]\n",
        "]\n",
        "\n",
        "round = 0\n",
        "\n",
        "while True:\n",
        "    row = int(input(\"? row:\"))\n",
        "    col = int(input(\"? col:\"))\n",
        "    if round % 2 == 0:\n",
        "        player = 1\n",
        "    else:\n",
        "        player = 2\n",
        "    board[row][col] = player\n",
        "    round = round + 1\n",
        "    print(board)"
      ],
      "metadata": {
        "colab": {
          "base_uri": "https://localhost:8080/",
          "height": 460
        },
        "id": "Oln2HULa5wxj",
        "outputId": "680291b8-a21a-40c3-d041-38ebecf77c82"
      },
      "execution_count": 49,
      "outputs": [
        {
          "output_type": "stream",
          "name": "stdout",
          "text": [
            "? row:0\n",
            "? col:0\n",
            "[[1, 0, 0], [0, 0, 0], [0, 0, 0]]\n",
            "? row:2\n",
            "? col:0\n",
            "[[1, 0, 0], [0, 0, 0], [2, 0, 0]]\n"
          ]
        },
        {
          "output_type": "error",
          "ename": "KeyboardInterrupt",
          "evalue": "Interrupted by user",
          "traceback": [
            "\u001b[0;31m---------------------------------------------------------------------------\u001b[0m",
            "\u001b[0;31mKeyboardInterrupt\u001b[0m                         Traceback (most recent call last)",
            "\u001b[0;32m<ipython-input-49-3971787217>\u001b[0m in \u001b[0;36m<cell line: 0>\u001b[0;34m()\u001b[0m\n\u001b[1;32m      9\u001b[0m \u001b[0;34m\u001b[0m\u001b[0m\n\u001b[1;32m     10\u001b[0m \u001b[0;32mwhile\u001b[0m \u001b[0;32mTrue\u001b[0m\u001b[0;34m:\u001b[0m\u001b[0;34m\u001b[0m\u001b[0;34m\u001b[0m\u001b[0m\n\u001b[0;32m---> 11\u001b[0;31m     \u001b[0mrow\u001b[0m \u001b[0;34m=\u001b[0m \u001b[0mint\u001b[0m\u001b[0;34m(\u001b[0m\u001b[0minput\u001b[0m\u001b[0;34m(\u001b[0m\u001b[0;34m\"? row:\"\u001b[0m\u001b[0;34m)\u001b[0m\u001b[0;34m)\u001b[0m\u001b[0;34m\u001b[0m\u001b[0;34m\u001b[0m\u001b[0m\n\u001b[0m\u001b[1;32m     12\u001b[0m     \u001b[0mcol\u001b[0m \u001b[0;34m=\u001b[0m \u001b[0mint\u001b[0m\u001b[0;34m(\u001b[0m\u001b[0minput\u001b[0m\u001b[0;34m(\u001b[0m\u001b[0;34m\"? col:\"\u001b[0m\u001b[0;34m)\u001b[0m\u001b[0;34m)\u001b[0m\u001b[0;34m\u001b[0m\u001b[0;34m\u001b[0m\u001b[0m\n\u001b[1;32m     13\u001b[0m     \u001b[0;32mif\u001b[0m \u001b[0mround\u001b[0m \u001b[0;34m%\u001b[0m \u001b[0;36m2\u001b[0m \u001b[0;34m==\u001b[0m \u001b[0;36m0\u001b[0m\u001b[0;34m:\u001b[0m\u001b[0;34m\u001b[0m\u001b[0;34m\u001b[0m\u001b[0m\n",
            "\u001b[0;32m/usr/local/lib/python3.11/dist-packages/ipykernel/kernelbase.py\u001b[0m in \u001b[0;36mraw_input\u001b[0;34m(self, prompt)\u001b[0m\n\u001b[1;32m   1175\u001b[0m                 \u001b[0;34m\"raw_input was called, but this frontend does not support input requests.\"\u001b[0m\u001b[0;34m\u001b[0m\u001b[0;34m\u001b[0m\u001b[0m\n\u001b[1;32m   1176\u001b[0m             )\n\u001b[0;32m-> 1177\u001b[0;31m         return self._input_request(\n\u001b[0m\u001b[1;32m   1178\u001b[0m             \u001b[0mstr\u001b[0m\u001b[0;34m(\u001b[0m\u001b[0mprompt\u001b[0m\u001b[0;34m)\u001b[0m\u001b[0;34m,\u001b[0m\u001b[0;34m\u001b[0m\u001b[0;34m\u001b[0m\u001b[0m\n\u001b[1;32m   1179\u001b[0m             \u001b[0mself\u001b[0m\u001b[0;34m.\u001b[0m\u001b[0m_parent_ident\u001b[0m\u001b[0;34m[\u001b[0m\u001b[0;34m\"shell\"\u001b[0m\u001b[0;34m]\u001b[0m\u001b[0;34m,\u001b[0m\u001b[0;34m\u001b[0m\u001b[0;34m\u001b[0m\u001b[0m\n",
            "\u001b[0;32m/usr/local/lib/python3.11/dist-packages/ipykernel/kernelbase.py\u001b[0m in \u001b[0;36m_input_request\u001b[0;34m(self, prompt, ident, parent, password)\u001b[0m\n\u001b[1;32m   1217\u001b[0m             \u001b[0;32mexcept\u001b[0m \u001b[0mKeyboardInterrupt\u001b[0m\u001b[0;34m:\u001b[0m\u001b[0;34m\u001b[0m\u001b[0;34m\u001b[0m\u001b[0m\n\u001b[1;32m   1218\u001b[0m                 \u001b[0;31m# re-raise KeyboardInterrupt, to truncate traceback\u001b[0m\u001b[0;34m\u001b[0m\u001b[0;34m\u001b[0m\u001b[0m\n\u001b[0;32m-> 1219\u001b[0;31m                 \u001b[0;32mraise\u001b[0m \u001b[0mKeyboardInterrupt\u001b[0m\u001b[0;34m(\u001b[0m\u001b[0;34m\"Interrupted by user\"\u001b[0m\u001b[0;34m)\u001b[0m \u001b[0;32mfrom\u001b[0m \u001b[0;32mNone\u001b[0m\u001b[0;34m\u001b[0m\u001b[0;34m\u001b[0m\u001b[0m\n\u001b[0m\u001b[1;32m   1220\u001b[0m             \u001b[0;32mexcept\u001b[0m \u001b[0mException\u001b[0m\u001b[0;34m:\u001b[0m\u001b[0;34m\u001b[0m\u001b[0;34m\u001b[0m\u001b[0m\n\u001b[1;32m   1221\u001b[0m                 \u001b[0mself\u001b[0m\u001b[0;34m.\u001b[0m\u001b[0mlog\u001b[0m\u001b[0;34m.\u001b[0m\u001b[0mwarning\u001b[0m\u001b[0;34m(\u001b[0m\u001b[0;34m\"Invalid Message:\"\u001b[0m\u001b[0;34m,\u001b[0m \u001b[0mexc_info\u001b[0m\u001b[0;34m=\u001b[0m\u001b[0;32mTrue\u001b[0m\u001b[0;34m)\u001b[0m\u001b[0;34m\u001b[0m\u001b[0;34m\u001b[0m\u001b[0m\n",
            "\u001b[0;31mKeyboardInterrupt\u001b[0m: Interrupted by user"
          ]
        }
      ]
    }
  ]
}