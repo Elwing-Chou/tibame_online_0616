{
  "nbformat": 4,
  "nbformat_minor": 0,
  "metadata": {
    "colab": {
      "provenance": [],
      "authorship_tag": "ABX9TyObfcj6wLUgqxwB+LcZEAI6",
      "include_colab_link": true
    },
    "kernelspec": {
      "name": "python3",
      "display_name": "Python 3"
    },
    "language_info": {
      "name": "python"
    }
  },
  "cells": [
    {
      "cell_type": "markdown",
      "metadata": {
        "id": "view-in-github",
        "colab_type": "text"
      },
      "source": [
        "<a href=\"https://colab.research.google.com/github/Elwing-Chou/tibame_online_0616/blob/main/tibame_night_20250708.ipynb\" target=\"_parent\"><img src=\"https://colab.research.google.com/assets/colab-badge.svg\" alt=\"Open In Colab\"/></a>"
      ]
    },
    {
      "cell_type": "markdown",
      "source": [
        "\n",
        "```\n",
        "HTTP代碼\n",
        "1. 2: 成功\n",
        "2. 3: 轉址\n",
        "3. 4: 錯誤\n",
        "403 Forbidden\n",
        "1. IP被ban: 換ip/等\n",
        "2. 模仿不夠像: 缺少必要headers\n",
        "```\n",
        "\n"
      ],
      "metadata": {
        "id": "ou5S_xGAwqE3"
      }
    },
    {
      "cell_type": "code",
      "execution_count": 10,
      "metadata": {
        "colab": {
          "base_uri": "https://localhost:8080/"
        },
        "id": "vKOQkRPVuQvr",
        "outputId": "97f55778-4e39-48fd-f4f5-aae47a7e6e5b"
      },
      "outputs": [
        {
          "output_type": "stream",
          "name": "stdout",
          "text": [
            "{'author': 'a0802459 (王月可可)', 'title': '[正妹] 短髮李珠珢', 'post_time': 'Tue Jul  8 16:20:49 2025', 'board': 'Beauty', 'pushes': [{'type': 1, 'uid': 'hyperfrog', 'text': '身材很好 但短髮有點莎味', 'ipdatetime': '42.72.86.237 07/08 16:23'}, {'type': -1, 'uid': 'kenslc199', 'text': '越看越像izsasa', 'ipdatetime': '106.64.97.99 07/08 16:26'}, {'type': 1, 'uid': 'haircc', 'text': '鷰尾', 'ipdatetime': '116.59.85.235 07/08 16:29'}, {'type': 1, 'uid': 'njnjy', 'text': '珠珠寶貝', 'ipdatetime': '36.233.28.49 07/08 16:33'}, {'type': 1, 'uid': 'loloman', 'text': '真的很漂亮', 'ipdatetime': '111.71.215.198 07/08 16:35'}, {'type': 1, 'uid': 'thewtf', 'text': '我老婆', 'ipdatetime': '49.217.198.113 07/08 16:38'}, {'type': 1, 'uid': 'Krishna', 'text': '害我覺得莎莎愈看愈可愛', 'ipdatetime': '49.217.135.204 07/08 16:45'}, {'type': 1, 'uid': 'CavendishJr', 'text': '100%的愛莉莎莎', 'ipdatetime': '27.52.58.37 07/08 16:50'}, {'type': 0, 'uid': 'CavendishJr', 'text': '莎莎本來就可愛', 'ipdatetime': '27.52.58.37 07/08 16:50'}, {'type': 1, 'uid': 'ginlom', 'text': '誅仙', 'ipdatetime': '220.133.150.159 07/08 16:51'}, {'type': 1, 'uid': 'michael46', 'text': '剪短一方面是不是為了對抗台灣濕熱', 'ipdatetime': '61.216.75.217 07/08 16:57'}, {'type': 0, 'uid': 'michael46', 'text': '天氣', 'ipdatetime': '61.216.75.217 07/08 16:57'}, {'type': 0, 'uid': 'ReiKuromiya', 'text': '7月都在大巨蛋吹冷氣 最好是對抗', 'ipdatetime': '49.218.92.50 07/08 17:02'}, {'type': 1, 'uid': 'superbeast', 'text': '莎味跑出來了', 'ipdatetime': '42.76.129.171 07/08 17:08'}, {'type': 0, 'uid': 'dronang', 'text': '得罪造型師', 'ipdatetime': '118.160.195.221 07/08 17:09'}, {'type': 1, 'uid': 'za89', 'text': '這身材真的讚讚讚讚', 'ipdatetime': '42.74.108.200 07/08 17:10'}, {'type': 1, 'uid': 'gorock', 'text': '短髮好正！', 'ipdatetime': '1.170.55.95 07/08 17:22'}, {'type': -1, 'uid': 'cityhunter04', 'text': '珠珠公主要哭死了，被莫名講成像某', 'ipdatetime': '42.70.177.54 07/08 17:26'}, {'type': 0, 'uid': 'cityhunter04', 'text': '個三流網紅！', 'ipdatetime': '42.70.177.54 07/08 17:26'}, {'type': 1, 'uid': 'la80620xx', 'text': '就愛莉莎莎啊 越來越像了', 'ipdatetime': '42.78.238.113 07/08 17:27'}, {'type': 1, 'uid': 'simultaneous', 'text': '身材好好', 'ipdatetime': '223.138.112.93 07/08 17:29'}, {'type': 1, 'uid': 'conanhide', 'text': '要吸多少才覺得像傻傻', 'ipdatetime': '223.140.217.168 07/08 17:38'}, {'type': 0, 'uid': 's02180218', 'text': '手臂上的貼布是抹不去的敗筆', 'ipdatetime': '60.250.204.5 07/08 17:41'}, {'type': 1, 'uid': 'bread220', 'text': '不！！！！！', 'ipdatetime': '49.216.19.83 07/08 17:42'}, {'type': 1, 'uid': 'AkiHimeTMT', 'text': '還是很可愛 但是為什麼要學這種假睫', 'ipdatetime': '49.216.166.124 07/08 17:57'}, {'type': 0, 'uid': 'AkiHimeTMT', 'text': '毛', 'ipdatetime': '49.216.166.124 07/08 17:57'}, {'type': 1, 'uid': 'popptt', 'text': '讚讚讚', 'ipdatetime': '42.70.177.238 07/08 18:00'}, {'type': 0, 'uid': 'dvnorlag', 'text': '短髮就是izsasa了 NG', 'ipdatetime': '49.216.175.33 07/08 18:10'}, {'type': 0, 'uid': 'hengfreecss', 'text': '我老婆珠珠寶貝', 'ipdatetime': '223.136.84.87 07/08 18:13'}, {'type': 1, 'uid': 'smallkop', 'text': '真的是莎莎', 'ipdatetime': '49.214.1.232 07/08 18:15'}, {'type': 1, 'uid': 'sanji47', 'text': 'No～～～～～長髮！！！', 'ipdatetime': '114.47.75.181 07/08 18:17'}, {'type': 1, 'uid': 'huso', 'text': '愛莉莎莎本人', 'ipdatetime': '49.215.233.47 07/08 18:34'}, {'type': 1, 'uid': 'spildwj', 'text': '愛莉莎莎高配版', 'ipdatetime': '223.138.179.151 07/08 18:37'}, {'type': 1, 'uid': 'JOKERPLUS02', 'text': '比不上愛莉莎莎才去跳啦啦隊', 'ipdatetime': '101.10.162.18 07/08 18:41'}, {'type': 1, 'uid': 'aterthy', 'text': '真的有像', 'ipdatetime': '223.139.247.158 07/08 19:06'}, {'type': 1, 'uid': 'ClownT', 'text': '自費武功', 'ipdatetime': '49.218.231.32 07/08 19:16'}, {'type': 0, 'uid': 'escobar006', 'text': '台灣太熱，但髮型越來越有台妹仔味道', 'ipdatetime': '111.82.156.48 07/08 19:19'}, {'type': 0, 'uid': 'tddt', 'text': '莎莎長的不怎麼樣耶，ptt的視力檢查要開辦了', 'ipdatetime': '223.137.242.190 07/08 19:19'}, {'type': 1, 'uid': 'hans0913', 'text': '手臂刺青真的藏很好欸', 'ipdatetime': '42.70.197.125 07/08 19:21'}, {'type': 1, 'uid': 'facio124', 'text': '正', 'ipdatetime': '27.242.64.106 07/08 19:21'}, {'type': 0, 'uid': 'harrybbs', 'text': '無痛轉職IZ', 'ipdatetime': '125.224.220.159 07/08 19:26'}, {'type': 1, 'uid': 'sahel', 'text': '越來越莎', 'ipdatetime': '101.12.151.147 07/08 19:41'}, {'type': 1, 'uid': 'anilocean', 'text': '塔莉莎莎就別來沾了', 'ipdatetime': '36.230.32.50 07/08 19:42'}, {'type': 1, 'uid': 'andywang3168', 'text': '喜歡長髮', 'ipdatetime': '223.137.135.89 07/08 19:43'}, {'type': 0, 'uid': 'n61208', 'text': '普妹再怎麼改造還是一樣', 'ipdatetime': '223.141.227.156 07/08 19:47'}, {'type': 0, 'uid': 'ak47g78', 'text': '超頂', 'ipdatetime': '39.9.158.49 07/08 19:55'}, {'type': 1, 'uid': 'jefflin0824', 'text': '哭哭 短髮就變IZ了', 'ipdatetime': '101.10.247.10 07/08 20:07'}, {'type': 1, 'uid': 'jansan', 'text': '我的菜', 'ipdatetime': '114.37.126.247 07/08 20:09'}, {'type': 0, 'uid': 'adamlovedogc', 'text': '老婆又偷偷瞞著我去換髮型了', 'ipdatetime': '36.230.219.89 07/08 20:11'}, {'type': 0, 'uid': 'ivanandian', 'text': '自廢武功', 'ipdatetime': '1.168.251.217 07/08 20:12'}, {'type': 1, 'uid': 'cl3bp6', 'text': '濃濃的莎味', 'ipdatetime': '101.12.150.107 07/08 20:18'}, {'type': 1, 'uid': 'tsaodin0220', 'text': '哭啊真的變莎莎了', 'ipdatetime': '1.163.110.86 07/08 20:22'}]}\n"
          ]
        }
      ],
      "source": [
        "import urllib.request as req\n",
        "import bs4 as bs\n",
        "\n",
        "url = \"https://www.ptt.cc/bbs/Beauty/M.1751962851.A.45A.html\"\n",
        "r = req.Request(url)\n",
        "r.add_header(\"User-Agent\", \"Mozilla/5.0 (Windows NT 10.0; Win64; x64) AppleWebKit/537.36 (KHTML, like Gecko) Chrome/138.0.0.0 Safari/537.36 Edg/138.0.0.0\")\n",
        "resp = req.urlopen(r)\n",
        "content = resp.read()\n",
        "html = bs.BeautifulSoup(content)\n",
        "# find/find_all\n",
        "# .text .get_text() [\"href\"]\n",
        "\n",
        "# 作者/標題/時間/看板\n",
        "metas = html.find_all(\"span\", {\"class\":\"article-meta-value\"})\n",
        "author = metas[0]\n",
        "board = metas[1]\n",
        "title = metas[2]\n",
        "post_time = metas[3]\n",
        "pushes = html.find_all(\"div\", {\"class\":\"push\"})\n",
        "\n",
        "\n",
        "author_text = author.text\n",
        "board_text = board.text\n",
        "title_text = title.text\n",
        "post_time_text = post_time.text\n",
        "\n",
        "push_list = []\n",
        "for p in pushes:\n",
        "    push_meta = p.find_all(\"span\")\n",
        "    push_trans = {\"推\":1, \"噓\":-1, \"→\":0}\n",
        "    push_data = {\n",
        "        \"type\":push_trans[push_meta[0].text.strip()],\n",
        "        \"uid\":push_meta[1].text.strip(),\n",
        "        \"text\":push_meta[2].text.strip().replace(\": \", \"\"),\n",
        "        \"ipdatetime\":push_meta[3].text.strip()\n",
        "    }\n",
        "    push_list.append(push_data)\n",
        "\n",
        "\n",
        "row = {\n",
        "    \"author\":author_text,\n",
        "    \"title\":title_text,\n",
        "    \"post_time\":post_time_text,\n",
        "    \"board\":board_text,\n",
        "    \"pushes\":push_list,\n",
        "}\n",
        "print(row)"
      ]
    },
    {
      "cell_type": "code",
      "source": [
        "\"\""
      ],
      "metadata": {
        "id": "KqmIYcU82jKR"
      },
      "execution_count": null,
      "outputs": []
    }
  ]
}