{
  "nbformat": 4,
  "nbformat_minor": 0,
  "metadata": {
    "colab": {
      "provenance": [],
      "authorship_tag": "ABX9TyOV0M77/3zR9rxl2+VBP0xL",
      "include_colab_link": true
    },
    "kernelspec": {
      "name": "python3",
      "display_name": "Python 3"
    },
    "language_info": {
      "name": "python"
    }
  },
  "cells": [
    {
      "cell_type": "markdown",
      "metadata": {
        "id": "view-in-github",
        "colab_type": "text"
      },
      "source": [
        "<a href=\"https://colab.research.google.com/github/Elwing-Chou/tibame_online_0616/blob/main/tibame_night_20250708.ipynb\" target=\"_parent\"><img src=\"https://colab.research.google.com/assets/colab-badge.svg\" alt=\"Open In Colab\"/></a>"
      ]
    },
    {
      "cell_type": "markdown",
      "source": [
        "\n",
        "```\n",
        "HTTP代碼\n",
        "1. 2: 成功\n",
        "2. 3: 轉址\n",
        "3. 4: 錯誤\n",
        "403 Forbidden\n",
        "1. IP被ban: 換ip/等\n",
        "2. 模仿不夠像: 缺少必要headers\n",
        "```\n",
        "\n"
      ],
      "metadata": {
        "id": "ou5S_xGAwqE3"
      }
    },
    {
      "cell_type": "code",
      "execution_count": 15,
      "metadata": {
        "colab": {
          "base_uri": "https://localhost:8080/"
        },
        "id": "vKOQkRPVuQvr",
        "outputId": "0d195ae2-d6ed-47a8-f48d-63dd0085f7e4"
      },
      "outputs": [
        {
          "output_type": "stream",
          "name": "stdout",
          "text": [
            "{'author': 'jerryyuan (財運滾滾)', 'title': '[帥哥] 黃少祺', 'post_time': 'Sun Jul  6 18:23:37 2025', 'board': 'Beauty', 'pushes': [{'type': 1, 'uid': 'H132196', 'text': '神機妙算劉伯溫', 'ipdatetime': '218.164.214.114 07/06 18:41'}, {'type': 1, 'uid': 'jhc1120', 'text': '人在江湖 身不由己', 'ipdatetime': '49.159.75.132 07/06 18:45'}, {'type': 1, 'uid': 'globalspirit', 'text': '神機妙算劉伯溫', 'ipdatetime': '101.8.79.163 07/06 19:08'}, {'type': 0, 'uid': 'globalspirit', 'text': '台灣歐巴', 'ipdatetime': '101.8.79.163 07/06 19:08'}, {'type': 1, 'uid': 'bobon0921', 'text': '肥龍 肥龍', 'ipdatetime': '180.218.45.229 07/06 19:12'}, {'type': 1, 'uid': 'd06', 'text': '帥 體格維持超猛', 'ipdatetime': '223.139.88.86 07/06 19:18'}, {'type': 0, 'uid': 'k385476916', 'text': '飛虎', 'ipdatetime': '122.116.144.202 07/06 19:36'}, {'type': 1, 'uid': 'MintTW', 'text': 'https://i.imgur.com/Hhc8hwu.gif', 'ipdatetime': '111.71.214.125 07/06 19:25'}, {'type': 1, 'uid': 'KEDEN', 'text': '自律應該很驚人', 'ipdatetime': '27.247.60.90 07/06 22:00'}, {'type': 0, 'uid': 'Gardenia0603', 'text': '超帥', 'ipdatetime': '36.227.223.216 07/06 22:05'}, {'type': 1, 'uid': 'aegis80728', 'text': '他怎麼越來越年輕', 'ipdatetime': '106.1.232.52 07/06 22:16'}, {'type': 1, 'uid': 'ivery2266', 'text': '54?說34還比較可信', 'ipdatetime': '223.143.31.221 07/06 22:41'}, {'type': 1, 'uid': 'cloudbook', 'text': '生日快樂～最帥的劉伯溫！', 'ipdatetime': '114.45.89.138 07/06 22:46'}, {'type': 1, 'uid': 'Ayanami5566', 'text': '飛虎', 'ipdatetime': '1.163.74.164 07/06 22:51'}, {'type': 1, 'uid': 'andy8105', 'text': '神機妙算！', 'ipdatetime': '1.172.113.197 07/06 23:01'}, {'type': 0, 'uid': 'sheep0121', 'text': '臉看得出有年紀，不過身材真的維持得', 'ipdatetime': '49.216.90.85 07/06 23:18'}, {'type': 0, 'uid': 'sheep0121', 'text': '很好', 'ipdatetime': '49.216.90.85 07/06 23:18'}, {'type': 1, 'uid': 'n10617', 'text': '真的帥又自律', 'ipdatetime': '123.194.40.90 07/06 23:24'}, {'type': 1, 'uid': 'andy70612', 'text': '龍  已經成為肥龍', 'ipdatetime': '1.175.214.46 07/06 23:49'}, {'type': 0, 'uid': 'Eligor41', 'text': '近戰法師劉伯溫', 'ipdatetime': '37.248.244.19 07/06 23:56'}, {'type': 1, 'uid': 'samwang7027', 'text': '伯溫真的帥', 'ipdatetime': '114.37.103.239 07/07 01:17'}, {'type': 1, 'uid': 'kimsman', 'text': '認識一個女的，超愛黃少祺', 'ipdatetime': '101.10.94.169 07/07 10:22'}, {'type': 0, 'uid': 'theclgy2001', 'text': '另外一個飛龍變肥龍德了不是', 'ipdatetime': '101.12.153.69 07/07 10:58'}, {'type': 1, 'uid': 'kentin', 'text': '54長這樣真的逆天了', 'ipdatetime': '36.230.189.84 07/07 10:59'}, {'type': 1, 'uid': 'wei3350730', 'text': '太帥惹', 'ipdatetime': '101.10.3.175 07/07 13:15'}, {'type': 1, 'uid': 'gg86300', 'text': '韓風造型帥喔', 'ipdatetime': '111.242.76.158 07/07 13:36'}, {'type': 1, 'uid': 'twtpcsilence', 'text': '慢且 這是一個卦象', 'ipdatetime': '150.117.27.127 07/07 13:44'}, {'type': 1, 'uid': 'qaz2334438', 'text': '認真帥', 'ipdatetime': '223.138.26.211 07/07 15:08'}, {'type': 0, 'uid': 'Harionago', 'text': '他花期好長', 'ipdatetime': '114.43.136.169 07/07 19:11'}, {'type': 1, 'uid': 'bbcumback2me', 'text': '表特給過，而且比年輕的時候粗真的', 'ipdatetime': '194.195.89.191 07/07 19:54'}, {'type': 0, 'uid': 'bbcumback2me', 'text': '有夠猛', 'ipdatetime': '194.195.89.191 07/07 19:54'}, {'type': 0, 'uid': 'fack3170', 'text': '台灣帥大叔', 'ipdatetime': '39.14.17.110 07/07 20:14'}, {'type': 1, 'uid': 'eee60109', 'text': '周勝強', 'ipdatetime': '123.192.154.136 07/07 21:10'}, {'type': 1, 'uid': 'Hosh', 'text': '推爆 真的是帥', 'ipdatetime': '114.137.162.237 07/08 00:55'}], 'content': '54歲~生日快樂!\\n\\nhttps://i.imgur.com/OSwXeuz.jpeg\\nhttps://i.imgur.com/c2CmTdy.jpeg\\nhttps://i.imgur.com/WDzTRGh.jpeg\\nhttps://i.imgur.com/Ue2jqqf.jpeg\\nhttps://i.imgur.com/ejEwGXA.jpeg\\nhttps://i.imgur.com/H8i2ZVT.jpeg\\n\\n--\\n※ 發信站: 批踢踢實業坊(ptt.cc), 來自: 220.142.196.177 (臺灣)\\n※ 文章網址: https://www.ptt.cc/bbs/Beauty/M.1751797464.A.265.html'}\n"
          ]
        }
      ],
      "source": [
        "import urllib.request as req\n",
        "import bs4 as bs\n",
        "\n",
        "url = \"https://www.ptt.cc/bbs/Beauty/M.1751797464.A.265.html\"\n",
        "r = req.Request(url)\n",
        "r.add_header(\"User-Agent\", \"Mozilla/5.0 (Windows NT 10.0; Win64; x64) AppleWebKit/537.36 (KHTML, like Gecko) Chrome/138.0.0.0 Safari/537.36 Edg/138.0.0.0\")\n",
        "resp = req.urlopen(r)\n",
        "content = resp.read()\n",
        "html = bs.BeautifulSoup(content)\n",
        "# find/find_all\n",
        "# .text .get_text() [\"href\"]\n",
        "\n",
        "# 作者/標題/時間/看板\n",
        "metas = html.find_all(\"span\", {\"class\":\"article-meta-value\"})\n",
        "author = metas[0]\n",
        "board = metas[1]\n",
        "title = metas[2]\n",
        "post_time = metas[3]\n",
        "pushes = html.find_all(\"div\", {\"class\":\"push\"})\n",
        "\n",
        "\n",
        "author_text = author.text\n",
        "board_text = board.text\n",
        "title_text = title.text\n",
        "post_time_text = post_time.text\n",
        "\n",
        "push_list = []\n",
        "for p in pushes:\n",
        "    push_meta = p.find_all(\"span\")\n",
        "    push_trans = {\"推\":1, \"噓\":-1, \"→\":0}\n",
        "    push_data = {\n",
        "        \"type\":push_trans[push_meta[0].text.strip()],\n",
        "        \"uid\":push_meta[1].text.strip(),\n",
        "        \"text\":push_meta[2].text.strip().replace(\": \", \"\"),\n",
        "        \"ipdatetime\":push_meta[3].text.strip()\n",
        "    }\n",
        "    push_list.append(push_data)\n",
        "\n",
        "# 內文: 沒有任何區塊把內文包起來, 先找到大區塊, 把區塊裡面你不要的東西去掉(extract)\n",
        "main_content = html.find(\"div\", {\"id\":\"main-content\"})\n",
        "for e in html.find_all(\"div\", {\"class\":\"article-metaline\"}):\n",
        "    e.extract()\n",
        "for e in html.find_all(\"div\", {\"class\":\"article-metaline-right\"}):\n",
        "    e.extract()\n",
        "for e in html.find_all(\"div\", {\"class\":\"push\"}):\n",
        "    e.extract()\n",
        "# print(main_content)\n",
        "content_text = main_content.text.strip()\n",
        "\n",
        "\n",
        "row = {\n",
        "    \"author\":author_text,\n",
        "    \"title\":title_text,\n",
        "    \"post_time\":post_time_text,\n",
        "    \"board\":board_text,\n",
        "    \"pushes\":push_list,\n",
        "    \"content\":content_text,\n",
        "}\n",
        "print(row)"
      ]
    },
    {
      "cell_type": "code",
      "source": [
        "\"\""
      ],
      "metadata": {
        "id": "KqmIYcU82jKR"
      },
      "execution_count": null,
      "outputs": []
    }
  ]
}