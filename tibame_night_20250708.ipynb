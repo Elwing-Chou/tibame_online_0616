{
  "nbformat": 4,
  "nbformat_minor": 0,
  "metadata": {
    "colab": {
      "provenance": [],
      "authorship_tag": "ABX9TyO8l6DIS1LLfmYlbEeg8ur8",
      "include_colab_link": true
    },
    "kernelspec": {
      "name": "python3",
      "display_name": "Python 3"
    },
    "language_info": {
      "name": "python"
    }
  },
  "cells": [
    {
      "cell_type": "markdown",
      "metadata": {
        "id": "view-in-github",
        "colab_type": "text"
      },
      "source": [
        "<a href=\"https://colab.research.google.com/github/Elwing-Chou/tibame_online_0616/blob/main/tibame_night_20250708.ipynb\" target=\"_parent\"><img src=\"https://colab.research.google.com/assets/colab-badge.svg\" alt=\"Open In Colab\"/></a>"
      ]
    },
    {
      "cell_type": "markdown",
      "source": [
        "\n",
        "```\n",
        "HTTP代碼\n",
        "1. 2: 成功\n",
        "2. 3: 轉址\n",
        "3. 4: 錯誤\n",
        "403 Forbidden\n",
        "1. IP被ban: 換ip/等\n",
        "2. 模仿不夠像: 缺少必要headers\n",
        "```\n",
        "\n"
      ],
      "metadata": {
        "id": "ou5S_xGAwqE3"
      }
    },
    {
      "cell_type": "markdown",
      "source": [
        "\n",
        "\n",
        "```\n",
        "如果你的html區塊是沒有class/id可以讓你篩選的\n",
        "1. 找他老爸(必須有class/id)\n",
        "2. 自己想辦法寫一個篩選方式(文字/超連結網址)\n",
        "\n",
        "```\n",
        "\n"
      ],
      "metadata": {
        "id": "dINNFlffCwEP"
      }
    },
    {
      "cell_type": "code",
      "source": [
        "import urllib.request as req\n",
        "\n",
        "# 相對路徑:\n",
        "# a.txt: 現在這個目錄下的a.txt\n",
        "# ./a.txt: 現在(.)這個目錄下的a.txt\n",
        "# ../a.txt: 前一層目錄(..)的a.txt\n",
        "def get_imgur_image(url, dirname=\".\"):\n",
        "    # dirname = \"file\"\n",
        "    # url = \"https://i.imgur.com/OSwXeuz.jpeg\"\n",
        "    r = req.Request(url)\n",
        "    r.add_header(\"User-Agent\", \"Mozilla/5.0 (Windows NT 10.0; Win64; x64) AppleWebKit/537.36 (KHTML, like Gecko) Chrome/138.0.0.0 Safari/537.36 Edg/138.0.0.0\")\n",
        "    resp = req.urlopen(r)\n",
        "    content = resp.read()\n",
        "\n",
        "    # 檔案讀寫\n",
        "    # 1. 純文字: r/w  encoding=\"utf-8\"\n",
        "    # 2. 非純文字(jpeg, png, docx, xlsx, pdf...): rb/wb\n",
        "    fp = dirname + \"/\" + url.split(\"/\")[-1]\n",
        "    print(\"存放位置:\", fp)\n",
        "    with open(fp, \"wb\") as f:\n",
        "        f.write(content)\n",
        "\n",
        "# url = \"https://i.imgur.com/H8i2ZVT.jpeg\"\n",
        "# get_imgur_image(url, \"test\")"
      ],
      "metadata": {
        "id": "6cehbYhVNLHG"
      },
      "execution_count": 1,
      "outputs": []
    },
    {
      "cell_type": "code",
      "execution_count": 9,
      "metadata": {
        "id": "vKOQkRPVuQvr",
        "colab": {
          "base_uri": "https://localhost:8080/"
        },
        "outputId": "351873e8-08f6-4d3c-92f9-849f2314a410"
      },
      "outputs": [
        {
          "output_type": "stream",
          "name": "stdout",
          "text": [
            "符合格式, 下載: https://i.imgur.com/OSwXeuz.jpeg\n",
            "存放位置: Beauty/M.1751797464.A.265.html/OSwXeuz.jpeg\n",
            "符合格式, 下載: https://i.imgur.com/c2CmTdy.jpeg\n",
            "存放位置: Beauty/M.1751797464.A.265.html/c2CmTdy.jpeg\n",
            "符合格式, 下載: https://i.imgur.com/WDzTRGh.jpeg\n",
            "存放位置: Beauty/M.1751797464.A.265.html/WDzTRGh.jpeg\n",
            "符合格式, 下載: https://i.imgur.com/Ue2jqqf.jpeg\n",
            "存放位置: Beauty/M.1751797464.A.265.html/Ue2jqqf.jpeg\n",
            "符合格式, 下載: https://i.imgur.com/ejEwGXA.jpeg\n",
            "存放位置: Beauty/M.1751797464.A.265.html/ejEwGXA.jpeg\n",
            "符合格式, 下載: https://i.imgur.com/H8i2ZVT.jpeg\n",
            "存放位置: Beauty/M.1751797464.A.265.html/H8i2ZVT.jpeg\n",
            "符合格式, 下載: https://i.imgur.com/Hhc8hwu.gif\n",
            "存放位置: Beauty/M.1751797464.A.265.html/Hhc8hwu.gif\n"
          ]
        }
      ],
      "source": [
        "import json\n",
        "import os\n",
        "import urllib.request as req\n",
        "import bs4 as bs\n",
        "\n",
        "def download_ptt_article(url, root=\".\"):\n",
        "    # url = \"https://www.ptt.cc/bbs/Beauty/M.1751797464.A.265.html\"\n",
        "    # 儲存的路徑\n",
        "    dirname = url.split(\"/\")[-1]\n",
        "    dirname = os.path.join(root, dirname)\n",
        "    if not os.path.exists(dirname):\n",
        "        os.makedirs(dirname)\n",
        "\n",
        "    r = req.Request(url)\n",
        "    r.add_header(\"User-Agent\", \"Mozilla/5.0 (Windows NT 10.0; Win64; x64) AppleWebKit/537.36 (KHTML, like Gecko) Chrome/138.0.0.0 Safari/537.36 Edg/138.0.0.0\")\n",
        "    resp = req.urlopen(r)\n",
        "    content = resp.read()\n",
        "    html = bs.BeautifulSoup(content)\n",
        "    # find/find_all\n",
        "    # .text .get_text() [\"href\"]\n",
        "\n",
        "    # 作者/標題/時間/看板\n",
        "    metas = html.find_all(\"span\", {\"class\":\"article-meta-value\"})\n",
        "    author = metas[0]\n",
        "    board = metas[1]\n",
        "    title = metas[2]\n",
        "    post_time = metas[3]\n",
        "    pushes = html.find_all(\"div\", {\"class\":\"push\"})\n",
        "\n",
        "\n",
        "    author_text = author.text\n",
        "    board_text = board.text\n",
        "    title_text = title.text\n",
        "    post_time_text = post_time.text\n",
        "\n",
        "    push_list = []\n",
        "    for p in pushes:\n",
        "        push_meta = p.find_all(\"span\")\n",
        "        push_trans = {\"推\":1, \"噓\":-1, \"→\":0}\n",
        "        push_data = {\n",
        "            \"type\":push_trans[push_meta[0].text.strip()],\n",
        "            \"uid\":push_meta[1].text.strip(),\n",
        "            \"text\":push_meta[2].text.strip().replace(\": \", \"\"),\n",
        "            \"ipdatetime\":push_meta[3].text.strip()\n",
        "        }\n",
        "        push_list.append(push_data)\n",
        "\n",
        "    # 下載所有圖片\n",
        "    allow_sub = [\"jpg\", \"jpeg\", \"png\", \"gif\"]\n",
        "    links = html.find_all(\"a\")\n",
        "    for l in links:\n",
        "        href = l[\"href\"]\n",
        "        sub = href.split(\".\")[-1]\n",
        "        if sub.lower() in allow_sub:\n",
        "            print(\"符合格式, 下載:\", href)\n",
        "            get_imgur_image(href, dirname)\n",
        "\n",
        "    # 內文: 沒有任何區塊把內文包起來, 先找到大區塊, 把區塊裡面你不要的東西去掉(extract)\n",
        "    main_content = html.find(\"div\", {\"id\":\"main-content\"})\n",
        "    for e in html.find_all(\"div\", {\"class\":\"article-metaline\"}):\n",
        "        e.extract()\n",
        "    for e in html.find_all(\"div\", {\"class\":\"article-metaline-right\"}):\n",
        "        e.extract()\n",
        "    for e in html.find_all(\"div\", {\"class\":\"push\"}):\n",
        "        e.extract()\n",
        "    # print(main_content)\n",
        "    content_text = main_content.text.strip()\n",
        "\n",
        "\n",
        "    row = {\n",
        "        \"author\":author_text,\n",
        "        \"title\":title_text,\n",
        "        \"post_time\":post_time_text,\n",
        "        \"board\":board_text,\n",
        "        \"pushes\":push_list,\n",
        "        \"content\":content_text,\n",
        "    }\n",
        "    # print(row)\n",
        "    fn = os.path.join(dirname, \"data.json\")\n",
        "    with open(fn, \"w\", encoding=\"utf-8\") as f:\n",
        "        json.dump(row, f, indent=4, ensure_ascii=False)\n",
        "\n",
        "# test code\n",
        "url = \"https://www.ptt.cc/bbs/Beauty/M.1751797464.A.265.html\"\n",
        "download_ptt_article(url, \"Beauty\")"
      ]
    },
    {
      "cell_type": "code",
      "source": [
        "import urllib.request as req\n",
        "import bs4 as bs\n",
        "\n",
        "\n",
        "url = \"https://www.ptt.cc/bbs/Beauty/index4003.html\"\n",
        "dirname = \"Beauty\"\n",
        "\n",
        "# 4004\n",
        "# Beauty - M..xxxx.html - jpeg/png\n",
        "r = req.Request(url)\n",
        "r.add_header(\"User-Agent\", \"Mozilla/5.0 (Windows NT 10.0; Win64; x64) AppleWebKit/537.36 (KHTML, like Gecko) Chrome/138.0.0.0 Safari/537.36 Edg/138.0.0.0\")\n",
        "resp = req.urlopen(r)\n",
        "content = resp.read()\n",
        "html = bs.BeautifulSoup(content)\n",
        "\n",
        "posts = html.find_all(\"div\", {\"class\":\"title\"})\n",
        "for post in posts:\n",
        "    post_a = post.find(\"a\")\n",
        "    if not post_a == None:\n",
        "        post_a_href = \"https://www.ptt.cc\" + post_a[\"href\"]\n",
        "        print(post_a_href)\n",
        "        download_ptt_article(post_a_href, dirname)"
      ],
      "metadata": {
        "colab": {
          "base_uri": "https://localhost:8080/"
        },
        "id": "4Nv9sXa7Rv7Q",
        "outputId": "e93254b1-a1ea-4582-ab33-9f77052f03d8"
      },
      "execution_count": null,
      "outputs": [
        {
          "output_type": "stream",
          "name": "stdout",
          "text": [
            "https://www.ptt.cc/bbs/Beauty/M.1752031632.A.622.html\n",
            "符合格式, 下載: https://images2.imgbox.com/37/2c/ILuQOrW3_o.jpg\n",
            "存放位置: Beauty/M.1752031632.A.622.html/ILuQOrW3_o.jpg\n",
            "符合格式, 下載: https://images2.imgbox.com/36/57/xCpkSoum_o.jpg\n",
            "存放位置: Beauty/M.1752031632.A.622.html/xCpkSoum_o.jpg\n",
            "符合格式, 下載: https://images2.imgbox.com/ba/44/xZ46iBmB_o.jpg\n",
            "存放位置: Beauty/M.1752031632.A.622.html/xZ46iBmB_o.jpg\n",
            "符合格式, 下載: https://images2.imgbox.com/a9/6f/483evDlX_o.jpg\n",
            "存放位置: Beauty/M.1752031632.A.622.html/483evDlX_o.jpg\n",
            "符合格式, 下載: https://images2.imgbox.com/f8/8c/mjN637Aa_o.jpg\n",
            "存放位置: Beauty/M.1752031632.A.622.html/mjN637Aa_o.jpg\n",
            "符合格式, 下載: https://images2.imgbox.com/6b/a6/765QhU9l_o.jpg\n",
            "存放位置: Beauty/M.1752031632.A.622.html/765QhU9l_o.jpg\n",
            "符合格式, 下載: https://images2.imgbox.com/2a/17/vqBuvtUX_o.jpg\n",
            "存放位置: Beauty/M.1752031632.A.622.html/vqBuvtUX_o.jpg\n",
            "符合格式, 下載: https://images2.imgbox.com/14/e4/2nWgMS8p_o.jpg\n",
            "存放位置: Beauty/M.1752031632.A.622.html/2nWgMS8p_o.jpg\n",
            "符合格式, 下載: https://images2.imgbox.com/98/f6/3WXmdWZK_o.jpg\n",
            "存放位置: Beauty/M.1752031632.A.622.html/3WXmdWZK_o.jpg\n",
            "符合格式, 下載: https://images2.imgbox.com/c4/46/ggpzthUt_o.jpg\n",
            "存放位置: Beauty/M.1752031632.A.622.html/ggpzthUt_o.jpg\n",
            "符合格式, 下載: https://images2.imgbox.com/5a/07/BdbDnObb_o.jpg\n",
            "存放位置: Beauty/M.1752031632.A.622.html/BdbDnObb_o.jpg\n",
            "https://www.ptt.cc/bbs/Beauty/M.1752032195.A.688.html\n",
            "符合格式, 下載: https://pbs.twimg.com/media/GrOZimiW8AAQKUx.jpg\n",
            "存放位置: Beauty/M.1752032195.A.688.html/GrOZimiW8AAQKUx.jpg\n",
            "符合格式, 下載: https://pbs.twimg.com/media/Gq50doVaAAA-jVo.jpg\n",
            "存放位置: Beauty/M.1752032195.A.688.html/Gq50doVaAAA-jVo.jpg\n",
            "符合格式, 下載: https://pbs.twimg.com/media/GrL2GSRXoAAw3He.jpg\n",
            "存放位置: Beauty/M.1752032195.A.688.html/GrL2GSRXoAAw3He.jpg\n",
            "符合格式, 下載: https://pbs.twimg.com/media/GqWkeGnaEAAn4jS.jpg\n",
            "存放位置: Beauty/M.1752032195.A.688.html/GqWkeGnaEAAn4jS.jpg\n",
            "符合格式, 下載: https://pbs.twimg.com/media/GpLBnBUa4AEpq-T.jpg\n",
            "存放位置: Beauty/M.1752032195.A.688.html/GpLBnBUa4AEpq-T.jpg\n",
            "符合格式, 下載: https://pbs.twimg.com/media/GtE5hQEbIAAL2Eg.jpg\n",
            "存放位置: Beauty/M.1752032195.A.688.html/GtE5hQEbIAAL2Eg.jpg\n",
            "符合格式, 下載: https://pbs.twimg.com/media/Gs_apmAb0AA019r.jpg\n",
            "存放位置: Beauty/M.1752032195.A.688.html/Gs_apmAb0AA019r.jpg\n",
            "符合格式, 下載: https://pbs.twimg.com/media/GuPfEIkaIAACXhO.jpg\n",
            "存放位置: Beauty/M.1752032195.A.688.html/GuPfEIkaIAACXhO.jpg\n",
            "https://www.ptt.cc/bbs/Beauty/M.1752033614.A.F9B.html\n",
            "符合格式, 下載: https://i.meee.com.tw/ThWlQKE.jpg\n",
            "存放位置: Beauty/M.1752033614.A.F9B.html/ThWlQKE.jpg\n",
            "符合格式, 下載: https://i.meee.com.tw/OEVjH3X.jpg\n",
            "存放位置: Beauty/M.1752033614.A.F9B.html/OEVjH3X.jpg\n",
            "符合格式, 下載: https://i.meee.com.tw/VhefhBS.jpg\n",
            "存放位置: Beauty/M.1752033614.A.F9B.html/VhefhBS.jpg\n",
            "符合格式, 下載: https://i.meee.com.tw/0qelRai.jpg\n",
            "存放位置: Beauty/M.1752033614.A.F9B.html/0qelRai.jpg\n",
            "符合格式, 下載: https://i.meee.com.tw/0FbUf67.jpg\n",
            "存放位置: Beauty/M.1752033614.A.F9B.html/0FbUf67.jpg\n",
            "符合格式, 下載: https://i.meee.com.tw/AyxWKEa.jpg\n",
            "存放位置: Beauty/M.1752033614.A.F9B.html/AyxWKEa.jpg\n",
            "符合格式, 下載: https://i.meee.com.tw/zSl8UBd.png\n",
            "存放位置: Beauty/M.1752033614.A.F9B.html/zSl8UBd.png\n",
            "符合格式, 下載: https://i.meee.com.tw/rdwtCJf.jpg\n",
            "存放位置: Beauty/M.1752033614.A.F9B.html/rdwtCJf.jpg\n",
            "符合格式, 下載: https://i.imgur.com/uZ4xVwH.jpeg\n",
            "存放位置: Beauty/M.1752033614.A.F9B.html/uZ4xVwH.jpeg\n",
            "https://www.ptt.cc/bbs/Beauty/M.1752036469.A.6E8.html\n",
            "符合格式, 下載: https://i.imgur.com/hG175nW.jpeg\n",
            "存放位置: Beauty/M.1752036469.A.6E8.html/hG175nW.jpeg\n",
            "符合格式, 下載: https://i.imgur.com/RUp22Vh.jpeg\n",
            "存放位置: Beauty/M.1752036469.A.6E8.html/RUp22Vh.jpeg\n",
            "符合格式, 下載: https://i.imgur.com/L9GBVf9.jpeg\n",
            "存放位置: Beauty/M.1752036469.A.6E8.html/L9GBVf9.jpeg\n",
            "符合格式, 下載: https://i.imgur.com/6Q21Yi3.jpeg\n",
            "存放位置: Beauty/M.1752036469.A.6E8.html/6Q21Yi3.jpeg\n",
            "符合格式, 下載: https://i.imgur.com/oHsaMsS.jpeg\n",
            "存放位置: Beauty/M.1752036469.A.6E8.html/oHsaMsS.jpeg\n",
            "符合格式, 下載: https://i.imgur.com/ovzZ1s8.jpeg\n",
            "存放位置: Beauty/M.1752036469.A.6E8.html/ovzZ1s8.jpeg\n",
            "符合格式, 下載: https://i.imgur.com/bGDqDvd.jpeg\n",
            "存放位置: Beauty/M.1752036469.A.6E8.html/bGDqDvd.jpeg\n",
            "符合格式, 下載: https://i.imgur.com/e8dN5uA.png\n",
            "存放位置: Beauty/M.1752036469.A.6E8.html/e8dN5uA.png\n",
            "https://www.ptt.cc/bbs/Beauty/M.1752040197.A.836.html\n",
            "符合格式, 下載: https://i.postimg.cc/zX7KMC0T/c-ty-R-Download.jpg\n",
            "存放位置: Beauty/M.1752040197.A.836.html/c-ty-R-Download.jpg\n",
            "符合格式, 下載: https://i.postimg.cc/c1Mng7qP/c-ty-R-Download.jpg\n",
            "存放位置: Beauty/M.1752040197.A.836.html/c-ty-R-Download.jpg\n",
            "符合格式, 下載: https://i.postimg.cc/9fR9rvVB/c-ty-R-Download.jpg\n",
            "存放位置: Beauty/M.1752040197.A.836.html/c-ty-R-Download.jpg\n",
            "符合格式, 下載: https://i.postimg.cc/WpMMmLZW/c-ty-R-Download.jpg\n",
            "存放位置: Beauty/M.1752040197.A.836.html/c-ty-R-Download.jpg\n",
            "符合格式, 下載: https://i.postimg.cc/qvgh59td/c-ty-R-Download.jpg\n",
            "存放位置: Beauty/M.1752040197.A.836.html/c-ty-R-Download.jpg\n",
            "符合格式, 下載: https://i.postimg.cc/C5Ynr58v/c-ty-R-Download.jpg\n",
            "存放位置: Beauty/M.1752040197.A.836.html/c-ty-R-Download.jpg\n",
            "符合格式, 下載: https://i.postimg.cc/CxKkVRQX/c-ty-R-Download.jpg\n",
            "存放位置: Beauty/M.1752040197.A.836.html/c-ty-R-Download.jpg\n",
            "符合格式, 下載: https://i.postimg.cc/D0K1V59P/c-ty-R-Download.jpg\n",
            "存放位置: Beauty/M.1752040197.A.836.html/c-ty-R-Download.jpg\n",
            "符合格式, 下載: https://i.postimg.cc/28kB4qry/c-ty-R-Download.jpg\n",
            "存放位置: Beauty/M.1752040197.A.836.html/c-ty-R-Download.jpg\n",
            "符合格式, 下載: https://i.postimg.cc/ZqGd3V5z/c-ty-R-Download.jpg\n",
            "存放位置: Beauty/M.1752040197.A.836.html/c-ty-R-Download.jpg\n",
            "符合格式, 下載: https://i.postimg.cc/TYfnC7qR/c-ty-R-Download.jpg\n",
            "存放位置: Beauty/M.1752040197.A.836.html/c-ty-R-Download.jpg\n",
            "符合格式, 下載: https://i.postimg.cc/GpVkKbzN/c-ty-R-Download.jpg\n",
            "存放位置: Beauty/M.1752040197.A.836.html/c-ty-R-Download.jpg\n",
            "符合格式, 下載: https://i.postimg.cc/htwzWpxQ/c-ty-R-Download.jpg\n",
            "存放位置: Beauty/M.1752040197.A.836.html/c-ty-R-Download.jpg\n",
            "符合格式, 下載: https://i.postimg.cc/L5TYcSBm/c-ty-R-Download.jpg\n",
            "存放位置: Beauty/M.1752040197.A.836.html/c-ty-R-Download.jpg\n",
            "符合格式, 下載: https://i.postimg.cc/ht3x4SFj/c-ty-R-Download.jpg\n",
            "存放位置: Beauty/M.1752040197.A.836.html/c-ty-R-Download.jpg\n",
            "符合格式, 下載: https://i.postimg.cc/5yqLfL1d/c-ty-R-Download.jpg\n",
            "存放位置: Beauty/M.1752040197.A.836.html/c-ty-R-Download.jpg\n",
            "符合格式, 下載: https://i.postimg.cc/fT8S5wRK/c-ty-R-Download.jpg\n",
            "存放位置: Beauty/M.1752040197.A.836.html/c-ty-R-Download.jpg\n",
            "符合格式, 下載: https://i.postimg.cc/SsczGCn2/c-ty-R-Download.jpg\n",
            "存放位置: Beauty/M.1752040197.A.836.html/c-ty-R-Download.jpg\n",
            "符合格式, 下載: https://i.meee.com.tw/RVVKEsr.gif\n",
            "存放位置: Beauty/M.1752040197.A.836.html/RVVKEsr.gif\n",
            "符合格式, 下載: https://i.meee.com.tw/ldrfW3j.gif\n",
            "存放位置: Beauty/M.1752040197.A.836.html/ldrfW3j.gif\n",
            "符合格式, 下載: https://i.imgur.com/fqAaM4g.gif\n",
            "存放位置: Beauty/M.1752040197.A.836.html/fqAaM4g.gif\n",
            "符合格式, 下載: https://i.meee.com.tw/PfrlRm3.jpg\n",
            "存放位置: Beauty/M.1752040197.A.836.html/PfrlRm3.jpg\n",
            "符合格式, 下載: https://i.meee.com.tw/tFmU2tY.jpg\n",
            "存放位置: Beauty/M.1752040197.A.836.html/tFmU2tY.jpg\n",
            "符合格式, 下載: https://i.meee.com.tw/DzQSKNZ.jpg\n",
            "存放位置: Beauty/M.1752040197.A.836.html/DzQSKNZ.jpg\n",
            "符合格式, 下載: https://i.meee.com.tw/znauavY.png\n",
            "存放位置: Beauty/M.1752040197.A.836.html/znauavY.png\n",
            "符合格式, 下載: https://i.meee.com.tw/8eYUVhz.png\n",
            "存放位置: Beauty/M.1752040197.A.836.html/8eYUVhz.png\n",
            "符合格式, 下載: https://i.meee.com.tw/LrBDtGa.gif\n",
            "存放位置: Beauty/M.1752040197.A.836.html/LrBDtGa.gif\n",
            "符合格式, 下載: https://i.meee.com.tw/KFHrmkm.jpg\n",
            "存放位置: Beauty/M.1752040197.A.836.html/KFHrmkm.jpg\n",
            "符合格式, 下載: https://i.meee.com.tw/b0jPooc.jpg\n",
            "存放位置: Beauty/M.1752040197.A.836.html/b0jPooc.jpg\n",
            "符合格式, 下載: https://i.meee.com.tw/DbSBkp4.jpg\n",
            "存放位置: Beauty/M.1752040197.A.836.html/DbSBkp4.jpg\n",
            "https://www.ptt.cc/bbs/Beauty/M.1752044396.A.565.html\n",
            "符合格式, 下載: https://i.postimg.cc/yYRc6q1X/S-63553581-0.jpg\n",
            "存放位置: Beauty/M.1752044396.A.565.html/S-63553581-0.jpg\n",
            "符合格式, 下載: https://i.meee.com.tw/aYOqKN7.gif\n",
            "存放位置: Beauty/M.1752044396.A.565.html/aYOqKN7.gif\n",
            "符合格式, 下載: https://i.postimg.cc/q7J3Gz8j/S-63553582-0.jpg\n",
            "存放位置: Beauty/M.1752044396.A.565.html/S-63553582-0.jpg\n",
            "符合格式, 下載: https://i.postimg.cc/cLM3YQ8v/S-63553583-0.jpg\n",
            "存放位置: Beauty/M.1752044396.A.565.html/S-63553583-0.jpg\n",
            "符合格式, 下載: https://i.postimg.cc/9fLqgCbV/S-63553584-0.jpg\n",
            "存放位置: Beauty/M.1752044396.A.565.html/S-63553584-0.jpg\n",
            "符合格式, 下載: https://i.postimg.cc/2SfvVH3p/S-63553585-0.jpg\n",
            "存放位置: Beauty/M.1752044396.A.565.html/S-63553585-0.jpg\n",
            "符合格式, 下載: https://i.postimg.cc/XJXBTm15/S-63553586-0.jpg\n",
            "存放位置: Beauty/M.1752044396.A.565.html/S-63553586-0.jpg\n",
            "符合格式, 下載: https://i.postimg.cc/wvPRH2nG/S-63553587-0.jpg\n"
          ]
        }
      ]
    },
    {
      "cell_type": "code",
      "source": [
        "f = open(\"a.txt\", \"w\", encoding=\"utf-8\")\n",
        "f.write(\"abc\")\n",
        "f.close()\n",
        "\n",
        "with open(\"a.txt\", \"w\", encoding=\"utf-8\") as f:\n",
        "    f.write(\"abc\")"
      ],
      "metadata": {
        "id": "KqmIYcU82jKR"
      },
      "execution_count": 2,
      "outputs": []
    },
    {
      "cell_type": "code",
      "source": [
        "import os\n",
        "\n",
        "dirname = \"a/b/c/d\"\n",
        "if not os.path.exists(dirname):\n",
        "    os.makedirs(dirname)"
      ],
      "metadata": {
        "id": "4Q8Z-pisHUCF"
      },
      "execution_count": 3,
      "outputs": []
    },
    {
      "cell_type": "code",
      "source": [
        "# 資料夾路徑如果是用字串的相加其實很危險\n",
        "# 萬一沒打斜線/或者打了兩個斜線\n",
        "os.path.join(\"a/\", \"b\")\n",
        "os.path.join(\"a\", \"b/\", \"c\", \"d\")"
      ],
      "metadata": {
        "colab": {
          "base_uri": "https://localhost:8080/",
          "height": 35
        },
        "id": "PZNOhQczH2IG",
        "outputId": "ee95e12f-a259-4dd8-c463-257fcf4e4dc6"
      },
      "execution_count": 5,
      "outputs": [
        {
          "output_type": "execute_result",
          "data": {
            "text/plain": [
              "'a/b/c/d'"
            ],
            "application/vnd.google.colaboratory.intrinsic+json": {
              "type": "string"
            }
          },
          "metadata": {},
          "execution_count": 5
        }
      ]
    },
    {
      "cell_type": "code",
      "source": [
        "# 解釋os.path/requests"
      ],
      "metadata": {
        "id": "E-R1A610JJeP"
      },
      "execution_count": null,
      "outputs": []
    }
  ]
}