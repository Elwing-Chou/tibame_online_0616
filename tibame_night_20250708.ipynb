{
  "nbformat": 4,
  "nbformat_minor": 0,
  "metadata": {
    "colab": {
      "provenance": [],
      "authorship_tag": "ABX9TyOgsrbbiJptZF5y3Es6aW0M",
      "include_colab_link": true
    },
    "kernelspec": {
      "name": "python3",
      "display_name": "Python 3"
    },
    "language_info": {
      "name": "python"
    }
  },
  "cells": [
    {
      "cell_type": "markdown",
      "metadata": {
        "id": "view-in-github",
        "colab_type": "text"
      },
      "source": [
        "<a href=\"https://colab.research.google.com/github/Elwing-Chou/tibame_online_0616/blob/main/tibame_night_20250708.ipynb\" target=\"_parent\"><img src=\"https://colab.research.google.com/assets/colab-badge.svg\" alt=\"Open In Colab\"/></a>"
      ]
    },
    {
      "cell_type": "markdown",
      "source": [
        "\n",
        "```\n",
        "HTTP代碼\n",
        "1. 2: 成功\n",
        "2. 3: 轉址\n",
        "3. 4: 錯誤\n",
        "403 Forbidden\n",
        "1. IP被ban: 換ip/等\n",
        "2. 模仿不夠像: 缺少必要headers\n",
        "```\n",
        "\n"
      ],
      "metadata": {
        "id": "ou5S_xGAwqE3"
      }
    },
    {
      "cell_type": "code",
      "execution_count": 5,
      "metadata": {
        "colab": {
          "base_uri": "https://localhost:8080/",
          "height": 106
        },
        "id": "vKOQkRPVuQvr",
        "outputId": "9999d756-f279-4fdc-99cc-9ef4eaa1ebd7"
      },
      "outputs": [
        {
          "output_type": "error",
          "ename": "SyntaxError",
          "evalue": "invalid syntax (ipython-input-5-3611974861.py, line 17)",
          "traceback": [
            "\u001b[0;36m  File \u001b[0;32m\"/tmp/ipython-input-5-3611974861.py\"\u001b[0;36m, line \u001b[0;32m17\u001b[0m\n\u001b[0;31m    \"title\":\u001b[0m\n\u001b[0m           ^\u001b[0m\n\u001b[0;31mSyntaxError\u001b[0m\u001b[0;31m:\u001b[0m invalid syntax\n"
          ]
        }
      ],
      "source": [
        "import urllib.request as req\n",
        "import bs4 as bs\n",
        "\n",
        "url = \"https://www.ptt.cc/bbs/Beauty/M.1751962851.A.45A.html\"\n",
        "r = req.Request(url)\n",
        "r.add_header(\"User-Agent\", \"Mozilla/5.0 (Windows NT 10.0; Win64; x64) AppleWebKit/537.36 (KHTML, like Gecko) Chrome/138.0.0.0 Safari/537.36 Edg/138.0.0.0\")\n",
        "resp = req.urlopen(r)\n",
        "content = resp.read()\n",
        "html = bs.BeautifulSoup(content)\n",
        "print(html)\n",
        "# find/find_all\n",
        "# .text .get_text() [\"href\"]\n",
        "\n",
        "# 作者/標題/時間/看板\n",
        "row = {\n",
        "    \"author\":\n",
        "    \"title\":\n",
        "    \"post_time\":\n",
        "    \"board\":\n",
        "    \"pushes\":[\n",
        "        {\n",
        "            \"type\":1推 -1噓 0->\n",
        "            \"uid\":\n",
        "            \"text\":\n",
        "        }\n",
        "    ]\n",
        "}"
      ]
    },
    {
      "cell_type": "code",
      "source": [
        "\"\""
      ],
      "metadata": {
        "id": "KqmIYcU82jKR"
      },
      "execution_count": null,
      "outputs": []
    }
  ]
}