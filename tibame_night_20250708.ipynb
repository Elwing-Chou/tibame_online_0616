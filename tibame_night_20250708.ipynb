{
  "nbformat": 4,
  "nbformat_minor": 0,
  "metadata": {
    "colab": {
      "provenance": [],
      "authorship_tag": "ABX9TyPh/rJjrkGKD0KX9QUkA4WN",
      "include_colab_link": true
    },
    "kernelspec": {
      "name": "python3",
      "display_name": "Python 3"
    },
    "language_info": {
      "name": "python"
    }
  },
  "cells": [
    {
      "cell_type": "markdown",
      "metadata": {
        "id": "view-in-github",
        "colab_type": "text"
      },
      "source": [
        "<a href=\"https://colab.research.google.com/github/Elwing-Chou/tibame_online_0616/blob/main/tibame_night_20250708.ipynb\" target=\"_parent\"><img src=\"https://colab.research.google.com/assets/colab-badge.svg\" alt=\"Open In Colab\"/></a>"
      ]
    },
    {
      "cell_type": "markdown",
      "source": [
        "\n",
        "```\n",
        "HTTP代碼\n",
        "1. 2: 成功\n",
        "2. 3: 轉址\n",
        "3. 4: 錯誤\n",
        "403 Forbidden\n",
        "1. IP被ban: 換ip/等\n",
        "2. 模仿不夠像: 缺少必要headers\n",
        "```\n",
        "\n"
      ],
      "metadata": {
        "id": "ou5S_xGAwqE3"
      }
    },
    {
      "cell_type": "markdown",
      "source": [
        "\n",
        "\n",
        "```\n",
        "如果你的html區塊是沒有class/id可以讓你篩選的\n",
        "1. 找他老爸(必須有class/id)\n",
        "2. 自己想辦法寫一個篩選方式(文字/超連結網址)\n",
        "\n",
        "```\n",
        "\n"
      ],
      "metadata": {
        "id": "dINNFlffCwEP"
      }
    },
    {
      "cell_type": "code",
      "source": [
        "import urllib.request as req\n",
        "\n",
        "# 相對路徑:\n",
        "# a.txt: 現在這個目錄下的a.txt\n",
        "# ./a.txt: 現在(.)這個目錄下的a.txt\n",
        "# ../a.txt: 前一層目錄(..)的a.txt\n",
        "def get_imgur_image(url, dirname=\".\"):\n",
        "    # dirname = \"file\"\n",
        "    # url = \"https://i.imgur.com/OSwXeuz.jpeg\"\n",
        "    r = req.Request(url)\n",
        "    r.add_header(\"User-Agent\", \"Mozilla/5.0 (Windows NT 10.0; Win64; x64) AppleWebKit/537.36 (KHTML, like Gecko) Chrome/138.0.0.0 Safari/537.36 Edg/138.0.0.0\")\n",
        "    resp = req.urlopen(r)\n",
        "    content = resp.read()\n",
        "\n",
        "    # 檔案讀寫\n",
        "    # 1. 純文字: r/w  encoding=\"utf-8\"\n",
        "    # 2. 非純文字(jpeg, png, docx, xlsx, pdf...): rb/wb\n",
        "    fp = dirname + \"/\" + url.split(\"/\")[-1]\n",
        "    print(\"存放位置:\", fp)\n",
        "    with open(fp, \"wb\") as f:\n",
        "        f.write(content)\n",
        "\n",
        "# url = \"https://i.imgur.com/H8i2ZVT.jpeg\"\n",
        "# get_imgur_image(url, \"test\")"
      ],
      "metadata": {
        "id": "6cehbYhVNLHG"
      },
      "execution_count": 1,
      "outputs": []
    },
    {
      "cell_type": "code",
      "execution_count": 6,
      "metadata": {
        "id": "vKOQkRPVuQvr",
        "colab": {
          "base_uri": "https://localhost:8080/"
        },
        "outputId": "b5071c75-538c-4868-dff5-873b80563064"
      },
      "outputs": [
        {
          "output_type": "stream",
          "name": "stdout",
          "text": [
            "符合格式, 下載: https://i.imgur.com/OSwXeuz.jpeg\n",
            "存放位置: ./OSwXeuz.jpeg\n",
            "符合格式, 下載: https://i.imgur.com/c2CmTdy.jpeg\n",
            "存放位置: ./c2CmTdy.jpeg\n",
            "符合格式, 下載: https://i.imgur.com/WDzTRGh.jpeg\n",
            "存放位置: ./WDzTRGh.jpeg\n",
            "符合格式, 下載: https://i.imgur.com/Ue2jqqf.jpeg\n",
            "存放位置: ./Ue2jqqf.jpeg\n",
            "符合格式, 下載: https://i.imgur.com/ejEwGXA.jpeg\n",
            "存放位置: ./ejEwGXA.jpeg\n",
            "符合格式, 下載: https://i.imgur.com/H8i2ZVT.jpeg\n",
            "存放位置: ./H8i2ZVT.jpeg\n",
            "符合格式, 下載: https://i.imgur.com/Hhc8hwu.gif\n",
            "存放位置: ./Hhc8hwu.gif\n"
          ]
        }
      ],
      "source": [
        "import json\n",
        "import os\n",
        "import urllib.request as req\n",
        "import bs4 as bs\n",
        "\n",
        "url = \"https://www.ptt.cc/bbs/Beauty/M.1751797464.A.265.html\"\n",
        "# 儲存的路徑\n",
        "dirname = url.split(\"/\")[-1]\n",
        "if not os.path.exists(dirname):\n",
        "    os.makedirs(dirname)\n",
        "\n",
        "r = req.Request(url)\n",
        "r.add_header(\"User-Agent\", \"Mozilla/5.0 (Windows NT 10.0; Win64; x64) AppleWebKit/537.36 (KHTML, like Gecko) Chrome/138.0.0.0 Safari/537.36 Edg/138.0.0.0\")\n",
        "resp = req.urlopen(r)\n",
        "content = resp.read()\n",
        "html = bs.BeautifulSoup(content)\n",
        "# find/find_all\n",
        "# .text .get_text() [\"href\"]\n",
        "\n",
        "# 作者/標題/時間/看板\n",
        "metas = html.find_all(\"span\", {\"class\":\"article-meta-value\"})\n",
        "author = metas[0]\n",
        "board = metas[1]\n",
        "title = metas[2]\n",
        "post_time = metas[3]\n",
        "pushes = html.find_all(\"div\", {\"class\":\"push\"})\n",
        "\n",
        "\n",
        "author_text = author.text\n",
        "board_text = board.text\n",
        "title_text = title.text\n",
        "post_time_text = post_time.text\n",
        "\n",
        "push_list = []\n",
        "for p in pushes:\n",
        "    push_meta = p.find_all(\"span\")\n",
        "    push_trans = {\"推\":1, \"噓\":-1, \"→\":0}\n",
        "    push_data = {\n",
        "        \"type\":push_trans[push_meta[0].text.strip()],\n",
        "        \"uid\":push_meta[1].text.strip(),\n",
        "        \"text\":push_meta[2].text.strip().replace(\": \", \"\"),\n",
        "        \"ipdatetime\":push_meta[3].text.strip()\n",
        "    }\n",
        "    push_list.append(push_data)\n",
        "\n",
        "# 下載所有圖片\n",
        "allow_sub = [\"jpg\", \"jpeg\", \"png\", \"gif\"]\n",
        "links = html.find_all(\"a\")\n",
        "for l in links:\n",
        "    href = l[\"href\"]\n",
        "    sub = href.split(\".\")[-1]\n",
        "    if sub.lower() in allow_sub:\n",
        "        print(\"符合格式, 下載:\", href)\n",
        "        get_imgur_image(href)\n",
        "\n",
        "# 內文: 沒有任何區塊把內文包起來, 先找到大區塊, 把區塊裡面你不要的東西去掉(extract)\n",
        "main_content = html.find(\"div\", {\"id\":\"main-content\"})\n",
        "for e in html.find_all(\"div\", {\"class\":\"article-metaline\"}):\n",
        "    e.extract()\n",
        "for e in html.find_all(\"div\", {\"class\":\"article-metaline-right\"}):\n",
        "    e.extract()\n",
        "for e in html.find_all(\"div\", {\"class\":\"push\"}):\n",
        "    e.extract()\n",
        "# print(main_content)\n",
        "content_text = main_content.text.strip()\n",
        "\n",
        "\n",
        "row = {\n",
        "    \"author\":author_text,\n",
        "    \"title\":title_text,\n",
        "    \"post_time\":post_time_text,\n",
        "    \"board\":board_text,\n",
        "    \"pushes\":push_list,\n",
        "    \"content\":content_text,\n",
        "}\n",
        "# print(row)\n",
        "fn = url.split(\"/\")[-1] + \".json\"\n",
        "with open(fn, \"w\", encoding=\"utf-8\") as f:\n",
        "    json.dump(row, f, indent=4, ensure_ascii=False)"
      ]
    },
    {
      "cell_type": "code",
      "source": [
        "f = open(\"a.txt\", \"w\", encoding=\"utf-8\")\n",
        "f.write(\"abc\")\n",
        "f.close()\n",
        "\n",
        "with open(\"a.txt\", \"w\", encoding=\"utf-8\") as f:\n",
        "    f.write(\"abc\")"
      ],
      "metadata": {
        "id": "KqmIYcU82jKR"
      },
      "execution_count": 2,
      "outputs": []
    },
    {
      "cell_type": "code",
      "source": [
        "import os\n",
        "\n",
        "dirname = \"a/b/c/d\"\n",
        "if not os.path.exists(dirname):\n",
        "    os.makedirs(dirname)"
      ],
      "metadata": {
        "id": "4Q8Z-pisHUCF"
      },
      "execution_count": 3,
      "outputs": []
    },
    {
      "cell_type": "code",
      "source": [
        "# 資料夾路徑如果是用字串的相加其實很危險\n",
        "# 萬一沒打斜線/或者打了兩個斜線\n",
        "os.path.join(\"a/\", \"b\")\n",
        "os.path.join(\"a\", \"b/\", \"c\", \"d\")"
      ],
      "metadata": {
        "colab": {
          "base_uri": "https://localhost:8080/",
          "height": 35
        },
        "id": "PZNOhQczH2IG",
        "outputId": "ee95e12f-a259-4dd8-c463-257fcf4e4dc6"
      },
      "execution_count": 5,
      "outputs": [
        {
          "output_type": "execute_result",
          "data": {
            "text/plain": [
              "'a/b/c/d'"
            ],
            "application/vnd.google.colaboratory.intrinsic+json": {
              "type": "string"
            }
          },
          "metadata": {},
          "execution_count": 5
        }
      ]
    },
    {
      "cell_type": "code",
      "source": [
        "# 解釋os.path/requests"
      ],
      "metadata": {
        "id": "E-R1A610JJeP"
      },
      "execution_count": null,
      "outputs": []
    }
  ]
}