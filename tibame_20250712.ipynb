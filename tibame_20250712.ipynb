{
  "nbformat": 4,
  "nbformat_minor": 0,
  "metadata": {
    "colab": {
      "provenance": [],
      "authorship_tag": "ABX9TyPSWI6H+OsYZq22tKmbrofq",
      "include_colab_link": true
    },
    "kernelspec": {
      "name": "python3",
      "display_name": "Python 3"
    },
    "language_info": {
      "name": "python"
    }
  },
  "cells": [
    {
      "cell_type": "markdown",
      "metadata": {
        "id": "view-in-github",
        "colab_type": "text"
      },
      "source": [
        "<a href=\"https://colab.research.google.com/github/Elwing-Chou/tibame_online_0616/blob/main/tibame_20250712.ipynb\" target=\"_parent\"><img src=\"https://colab.research.google.com/assets/colab-badge.svg\" alt=\"Open In Colab\"/></a>"
      ]
    },
    {
      "cell_type": "code",
      "execution_count": null,
      "metadata": {
        "id": "DtGDZjGfMBs3"
      },
      "outputs": [],
      "source": [
        "# os.path\n",
        "import os\n",
        "if not os.path.exists(\"a\"):\n",
        "    os.makedirs(\"a\")"
      ]
    },
    {
      "cell_type": "code",
      "source": [
        "# 第三方函式庫: requests\n",
        "import requests\n",
        "\n",
        "url = \"https://tabelog.com/tw/tokyo/rstLst/?SrtT=rt\"\n",
        "# urlopen -> requests.get\n",
        "resp = requests.get(url)\n",
        "# content = resp.read()\n",
        "content = resp.text\n",
        "print(content)"
      ],
      "metadata": {
        "id": "XxG5qG6LOuG4"
      },
      "execution_count": null,
      "outputs": []
    }
  ]
}