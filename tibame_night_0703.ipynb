{
  "nbformat": 4,
  "nbformat_minor": 0,
  "metadata": {
    "colab": {
      "provenance": [],
      "authorship_tag": "ABX9TyOk+QxiAUT0ZEk443LokR2C",
      "include_colab_link": true
    },
    "kernelspec": {
      "name": "python3",
      "display_name": "Python 3"
    },
    "language_info": {
      "name": "python"
    }
  },
  "cells": [
    {
      "cell_type": "markdown",
      "metadata": {
        "id": "view-in-github",
        "colab_type": "text"
      },
      "source": [
        "<a href=\"https://colab.research.google.com/github/Elwing-Chou/tibame_online_0616/blob/main/tibame_night_0703.ipynb\" target=\"_parent\"><img src=\"https://colab.research.google.com/assets/colab-badge.svg\" alt=\"Open In Colab\"/></a>"
      ]
    },
    {
      "cell_type": "markdown",
      "source": [
        "\n",
        "\n",
        "```\n",
        "HTTP代碼:\n",
        "2開頭: 成功\n",
        "3開頭: 轉址(直接導向新網址)\n",
        "4開頭: 錯誤\n",
        "404 Not Found: 通常就是網址打錯了\n",
        "\n",
        "以前遇到紅字:\n",
        "用if-else(事前預防)避免他\n",
        "\n",
        "但有時候你是無法避免的, 這個時候就需要兄弟語法(事後解決)\n",
        "\n",
        "try:\n",
        "    有可能出現例外的程式碼\n",
        "except 錯誤1:\n",
        "    解決方案\n",
        "except 錯誤2:\n",
        "    解決方案\n",
        "\n",
        "1. 如果沒發生錯誤: 那就執行完所有try\n",
        "2. 如果發生錯誤\n",
        "a. 你有準備解決方案(except): 那就走解決方案\n",
        "b. 你沒有                 : 出現紅字\n",
        "```\n",
        "\n"
      ],
      "metadata": {
        "id": "DmoOCg5N_yVG"
      }
    },
    {
      "cell_type": "code",
      "execution_count": 50,
      "metadata": {
        "colab": {
          "base_uri": "https://localhost:8080/"
        },
        "id": "v5a5X2aa-Xsd",
        "outputId": "c425eeff-84ea-46d2-92cc-215b01ac78cb"
      },
      "outputs": [
        {
          "output_type": "stream",
          "name": "stdout",
          "text": [
            "網址失敗\n",
            "https://tabelog.com/tw/tokyo/A1304/A130401/13184186/\n",
            "Bon.nu\n",
            "Bon.nu\n"
          ]
        }
      ],
      "source": [
        "import time\n",
        "import urllib.request as req\n",
        "import urllib.error as err\n",
        "import bs4 as bs\n",
        "\n",
        "url = \"https://tabelog.com/tw/tokyo/rstLst/sweets/?SrtT=rt\"\n",
        "while True:\n",
        "    try:\n",
        "        resp = req.urlopen(url)\n",
        "        break\n",
        "    except err.HTTPError:\n",
        "        print(\"網址失敗\")\n",
        "        time.sleep(1)\n",
        "\n",
        "content = resp.read()\n",
        "# 上次在這裡是做一個型態轉換 bytes -> list/dict\n",
        "# 因為不是JSON格式, 我們改使用bs來幫我轉換\n",
        "html = bs.BeautifulSoup(content)\n",
        "# 尋找: 區塊.find  .find_all\n",
        "# find(\"html名字\", 篩選條件)\n",
        "target = html.find(\"a\", {\"class\":\"list-rst__rst-name-target\"})\n",
        "# 當你找到區塊以後, 萃取\n",
        "# 1. 特殊屬性(字典): target[\"href\"]\n",
        "# 2. 顯示文字(專屬值/專屬功能): .text   .get_text()\n",
        "# 一個型態可以擁有的東西有兩種: 專屬功能/專屬值\n",
        "# 人.吃飯() 人.身高\n",
        "print(target[\"href\"])\n",
        "print(target.text)\n",
        "print(target.get_text())"
      ]
    }
  ]
}